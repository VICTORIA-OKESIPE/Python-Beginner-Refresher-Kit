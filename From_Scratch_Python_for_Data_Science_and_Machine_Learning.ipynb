{
  "cells": [
    {
      "cell_type": "markdown",
      "metadata": {
        "id": "view-in-github",
        "colab_type": "text"
      },
      "source": [
        "<a href=\"https://colab.research.google.com/github/VICTORIA-OKESIPE/Python-Beginner-Refresher-Kit/blob/main/From_Scratch_Python_for_Data_Science_and_Machine_Learning.ipynb\" target=\"_parent\"><img src=\"https://colab.research.google.com/assets/colab-badge.svg\" alt=\"Open In Colab\"/></a>"
      ]
    },
    {
      "cell_type": "markdown",
      "id": "9108a8a7",
      "metadata": {
        "id": "9108a8a7"
      },
      "source": [
        "# Data Types"
      ]
    },
    {
      "cell_type": "markdown",
      "id": "9563073a",
      "metadata": {
        "id": "9563073a"
      },
      "source": [
        "### Numbers"
      ]
    },
    {
      "cell_type": "code",
      "execution_count": null,
      "id": "8fb2e27d",
      "metadata": {
        "id": "8fb2e27d",
        "outputId": "dae9c5f3-0b1b-4708-952c-1c050046fe23"
      },
      "outputs": [
        {
          "data": {
            "text/plain": [
              "5"
            ]
          },
          "execution_count": 4,
          "metadata": {},
          "output_type": "execute_result"
        }
      ],
      "source": [
        "# Addition\n",
        "2 + 3"
      ]
    },
    {
      "cell_type": "code",
      "execution_count": null,
      "id": "94949a28",
      "metadata": {
        "id": "94949a28",
        "outputId": "935e2f1d-fb17-49d4-ceb6-79f8a04944b3"
      },
      "outputs": [
        {
          "data": {
            "text/plain": [
              "3"
            ]
          },
          "execution_count": 5,
          "metadata": {},
          "output_type": "execute_result"
        }
      ],
      "source": [
        "# Subtraction\n",
        "10 - 7"
      ]
    },
    {
      "cell_type": "code",
      "execution_count": null,
      "id": "d342f052",
      "metadata": {
        "id": "d342f052",
        "outputId": "99089a1c-bd71-487f-b324-337e5f59824c"
      },
      "outputs": [
        {
          "data": {
            "text/plain": [
              "5"
            ]
          },
          "execution_count": 6,
          "metadata": {},
          "output_type": "execute_result"
        }
      ],
      "source": [
        "# Division (return quotient)\n",
        "15 // 3"
      ]
    },
    {
      "cell_type": "code",
      "execution_count": null,
      "id": "c45f93a4",
      "metadata": {
        "id": "c45f93a4",
        "outputId": "867b8cef-ee51-4972-811f-02046a1f96af"
      },
      "outputs": [
        {
          "data": {
            "text/plain": [
              "7"
            ]
          },
          "execution_count": 7,
          "metadata": {},
          "output_type": "execute_result"
        }
      ],
      "source": [
        "# Division (return quotient)\n",
        "15 // 2"
      ]
    },
    {
      "cell_type": "code",
      "execution_count": null,
      "id": "1cd279f7",
      "metadata": {
        "id": "1cd279f7",
        "outputId": "5ff19f64-fdd3-4ca1-bf05-13a9718f550d"
      },
      "outputs": [
        {
          "data": {
            "text/plain": [
              "1"
            ]
          },
          "execution_count": 8,
          "metadata": {},
          "output_type": "execute_result"
        }
      ],
      "source": [
        "# Division (return remainder)\n",
        "15 % 2"
      ]
    },
    {
      "cell_type": "code",
      "execution_count": null,
      "id": "a9cdd8e9",
      "metadata": {
        "id": "a9cdd8e9",
        "outputId": "4b1f9107-ed59-46c7-c257-fd5a192bd262"
      },
      "outputs": [
        {
          "data": {
            "text/plain": [
              "15"
            ]
          },
          "execution_count": 10,
          "metadata": {},
          "output_type": "execute_result"
        }
      ],
      "source": [
        "# Multiplication\n",
        "3 * 5"
      ]
    },
    {
      "cell_type": "code",
      "execution_count": null,
      "id": "27ff88f2",
      "metadata": {
        "id": "27ff88f2",
        "outputId": "ed5e97c3-4bd3-4fc7-8188-e3711fb54700"
      },
      "outputs": [
        {
          "data": {
            "text/plain": [
              "25"
            ]
          },
          "execution_count": 11,
          "metadata": {},
          "output_type": "execute_result"
        }
      ],
      "source": [
        "# Exponents\n",
        "5**2"
      ]
    },
    {
      "cell_type": "code",
      "execution_count": null,
      "id": "164d1f97",
      "metadata": {
        "id": "164d1f97",
        "outputId": "c0110f3c-d3ea-409d-b1f8-48ecb71eb5b8"
      },
      "outputs": [
        {
          "data": {
            "text/plain": [
              "7"
            ]
          },
          "execution_count": 12,
          "metadata": {},
          "output_type": "execute_result"
        }
      ],
      "source": [
        "# Expon"
      ]
    },
    {
      "cell_type": "markdown",
      "id": "3028c572",
      "metadata": {
        "id": "3028c572"
      },
      "source": [
        "### Variables"
      ]
    },
    {
      "cell_type": "code",
      "execution_count": null,
      "id": "50acd856",
      "metadata": {
        "id": "50acd856"
      },
      "outputs": [],
      "source": [
        "no_of_icecream_cones = 2 #(Variable naming type = Snake case)\n",
        "NoOfIcecreamCones = 2    #(Variable naming type = Pascal case)\n",
        "noOfIcecreamCones = 2    #(Variable naming type = Carmel type)"
      ]
    },
    {
      "cell_type": "code",
      "execution_count": null,
      "id": "168adf9b",
      "metadata": {
        "id": "168adf9b"
      },
      "outputs": [],
      "source": [
        "a = 5\n",
        "b = 10\n",
        "c = 15\n",
        "d = a + b"
      ]
    },
    {
      "cell_type": "code",
      "execution_count": null,
      "id": "5986b37b",
      "metadata": {
        "id": "5986b37b",
        "outputId": "c7179716-3fcc-4100-ca06-d01a62442949"
      },
      "outputs": [
        {
          "data": {
            "text/plain": [
              "15"
            ]
          },
          "execution_count": 15,
          "metadata": {},
          "output_type": "execute_result"
        }
      ],
      "source": [
        "d"
      ]
    },
    {
      "cell_type": "markdown",
      "id": "8ccf20af",
      "metadata": {
        "id": "8ccf20af"
      },
      "source": [
        "### Strings"
      ]
    },
    {
      "cell_type": "code",
      "execution_count": null,
      "id": "f051cdf5",
      "metadata": {
        "id": "f051cdf5"
      },
      "outputs": [],
      "source": [
        "# Strings are like sentences. You always need to quote them. You can single quote\n",
        "# or double quote them"
      ]
    },
    {
      "cell_type": "code",
      "execution_count": null,
      "id": "d26b5697",
      "metadata": {
        "id": "d26b5697"
      },
      "outputs": [],
      "source": [
        "text1 = \"I am currently in Canada for an Internship Program\""
      ]
    },
    {
      "cell_type": "code",
      "execution_count": null,
      "id": "2761654e",
      "metadata": {
        "id": "2761654e",
        "outputId": "074f4e5d-b560-4118-a840-36a1605beb15"
      },
      "outputs": [
        {
          "data": {
            "text/plain": [
              "'I am currently in Canada for an Internship Program'"
            ]
          },
          "execution_count": 18,
          "metadata": {},
          "output_type": "execute_result"
        }
      ],
      "source": [
        "text1"
      ]
    },
    {
      "cell_type": "code",
      "execution_count": null,
      "id": "c9af1456",
      "metadata": {
        "id": "c9af1456"
      },
      "outputs": [],
      "source": [
        "text2 = 'You can also use single quote'"
      ]
    },
    {
      "cell_type": "code",
      "execution_count": null,
      "id": "e79b6a9b",
      "metadata": {
        "id": "e79b6a9b",
        "outputId": "e98f5d83-2cf9-44c1-c9d7-07a744350836"
      },
      "outputs": [
        {
          "data": {
            "text/plain": [
              "'You can also use single quote'"
            ]
          },
          "execution_count": 20,
          "metadata": {},
          "output_type": "execute_result"
        }
      ],
      "source": [
        "text2"
      ]
    },
    {
      "cell_type": "code",
      "execution_count": null,
      "id": "64234994",
      "metadata": {
        "id": "64234994"
      },
      "outputs": [],
      "source": [
        "# same result"
      ]
    },
    {
      "cell_type": "markdown",
      "id": "a417b401",
      "metadata": {
        "id": "a417b401"
      },
      "source": [
        "### Printing"
      ]
    },
    {
      "cell_type": "code",
      "execution_count": null,
      "id": "11a40f8e",
      "metadata": {
        "id": "11a40f8e"
      },
      "outputs": [],
      "source": [
        "a = \"Don't break the flow, keep doing it, at least one hour a day!\" # I prefer double quotes ...hahahaha, your choice"
      ]
    },
    {
      "cell_type": "code",
      "execution_count": null,
      "id": "5310e142",
      "metadata": {
        "id": "5310e142",
        "outputId": "da0b8852-b0e2-4fdc-9a4d-dc044d77bb71"
      },
      "outputs": [
        {
          "name": "stdout",
          "output_type": "stream",
          "text": [
            "Don't break the flow, keep doing it, at least one hour a day!\n"
          ]
        }
      ],
      "source": [
        "print(a)"
      ]
    },
    {
      "cell_type": "code",
      "execution_count": null,
      "id": "6adadccb",
      "metadata": {
        "id": "6adadccb",
        "outputId": "455f7d74-9bf7-4038-e86a-d4227bc84b75"
      },
      "outputs": [
        {
          "name": "stdout",
          "output_type": "stream",
          "text": [
            "Never give up!\n"
          ]
        }
      ],
      "source": [
        "print(\"Never give up!\")"
      ]
    },
    {
      "cell_type": "code",
      "execution_count": null,
      "id": "a5dfe697",
      "metadata": {
        "id": "a5dfe697",
        "outputId": "5e19f580-246f-4f1a-8df6-15141b185c60"
      },
      "outputs": [
        {
          "name": "stdout",
          "output_type": "stream",
          "text": [
            "Enter your First name: Victoria\n",
            "Enter your Birthdate (e.g., May 3rd): May 3rd\n"
          ]
        }
      ],
      "source": [
        "# Accepting Input Variable from User\n",
        "name = input(\"Enter your First name: \")\n",
        "birthday = input(\"Enter your Birthdate (e.g., May 3rd): \")"
      ]
    },
    {
      "cell_type": "code",
      "execution_count": null,
      "id": "8de88785",
      "metadata": {
        "id": "8de88785",
        "outputId": "e8707762-b407-4760-a8e7-0f3fc4211578"
      },
      "outputs": [
        {
          "name": "stdout",
          "output_type": "stream",
          "text": [
            "Victoria's birthday is May 3rd.\n"
          ]
        }
      ],
      "source": [
        "print(\"{}'s birthday is {}.\".format(name,birthday))"
      ]
    },
    {
      "cell_type": "code",
      "execution_count": null,
      "id": "8a867c9c",
      "metadata": {
        "id": "8a867c9c",
        "outputId": "288afe86-bcd1-4abc-e110-a3b337d31b43"
      },
      "outputs": [
        {
          "name": "stdout",
          "output_type": "stream",
          "text": [
            "Victoria's birthday is May 3rd.\n"
          ]
        }
      ],
      "source": [
        "print(name + \"'s birthday is \" + birthday + \".\")"
      ]
    },
    {
      "cell_type": "code",
      "execution_count": null,
      "id": "022260b7",
      "metadata": {
        "id": "022260b7"
      },
      "outputs": [],
      "source": [
        "age = 23"
      ]
    },
    {
      "cell_type": "code",
      "execution_count": null,
      "id": "31108040",
      "metadata": {
        "id": "31108040",
        "outputId": "23e26499-43f9-43e2-bbb7-5a41785a642c"
      },
      "outputs": [
        {
          "name": "stdout",
          "output_type": "stream",
          "text": [
            "23\n"
          ]
        }
      ],
      "source": [
        "print(age)"
      ]
    },
    {
      "cell_type": "code",
      "execution_count": null,
      "id": "23c7eb9d",
      "metadata": {
        "id": "23c7eb9d"
      },
      "outputs": [],
      "source": [
        "occupation = \"Intern\"   # Remember to always use quotes for text"
      ]
    },
    {
      "cell_type": "code",
      "execution_count": null,
      "id": "9e6f98d4",
      "metadata": {
        "id": "9e6f98d4",
        "outputId": "c7d135cc-4a5b-4573-a3b3-596cb7d5acb6"
      },
      "outputs": [
        {
          "name": "stdout",
          "output_type": "stream",
          "text": [
            "Intern\n"
          ]
        }
      ],
      "source": [
        "print(occupation)"
      ]
    },
    {
      "cell_type": "markdown",
      "id": "8f56fc92",
      "metadata": {
        "id": "8f56fc92"
      },
      "source": [
        "### Lists"
      ]
    },
    {
      "cell_type": "code",
      "execution_count": null,
      "id": "c91e6c1b",
      "metadata": {
        "id": "c91e6c1b",
        "outputId": "a49ac2fe-2487-4580-d62f-ef4f9367a682"
      },
      "outputs": [
        {
          "data": {
            "text/plain": [
              "[7, 8, 9, 10]"
            ]
          },
          "execution_count": 34,
          "metadata": {},
          "output_type": "execute_result"
        }
      ],
      "source": [
        "[7,8,9,10]"
      ]
    },
    {
      "cell_type": "code",
      "execution_count": null,
      "id": "f2f64ec6",
      "metadata": {
        "id": "f2f64ec6"
      },
      "outputs": [],
      "source": [
        "x = [7,8,9,10]"
      ]
    },
    {
      "cell_type": "code",
      "execution_count": null,
      "id": "61591bd1",
      "metadata": {
        "id": "61591bd1",
        "outputId": "425ec923-859d-4f88-f62a-f7e0f38cf121"
      },
      "outputs": [
        {
          "name": "stdout",
          "output_type": "stream",
          "text": [
            "['apple', 'cucumber', 'pineapple', 'grapes', 'lemon']\n"
          ]
        }
      ],
      "source": [
        "new_list = [\"apple\", \"cucumber\", \"pineapple\", \"grapes\", \"lemon\"] # Again, you use quotes when dealing with strings\n",
        "print(new_list)"
      ]
    },
    {
      "cell_type": "code",
      "execution_count": 3,
      "id": "24517188",
      "metadata": {
        "id": "24517188",
        "colab": {
          "base_uri": "https://localhost:8080/"
        },
        "outputId": "da9633f6-2324-44c9-9f8a-63480870ca19"
      },
      "outputs": [
        {
          "output_type": "stream",
          "name": "stdout",
          "text": [
            "['apple', 1, 2, [3, 4]]\n"
          ]
        }
      ],
      "source": [
        "# list of list\n",
        "y = [\"apple\", 1, 2, [3,4]]\n",
        "print(y)"
      ]
    },
    {
      "cell_type": "code",
      "execution_count": 8,
      "id": "55d228d9",
      "metadata": {
        "id": "55d228d9",
        "colab": {
          "base_uri": "https://localhost:8080/",
          "height": 35
        },
        "outputId": "6d9d0f4a-d1ba-420d-b9ee-ae1d74b9c672"
      },
      "outputs": [
        {
          "output_type": "execute_result",
          "data": {
            "text/plain": [
              "'apple'"
            ],
            "application/vnd.google.colaboratory.intrinsic+json": {
              "type": "string"
            }
          },
          "metadata": {},
          "execution_count": 8
        }
      ],
      "source": [
        "# Selecting elements in a list\n",
        "y[0]   # we use square brackets for selecting\n",
        "       # in Python, indexing (that is positions: by row/colum)\n",
        "       # begins from 0."
      ]
    },
    {
      "cell_type": "code",
      "source": [
        "y[-1]"
      ],
      "metadata": {
        "colab": {
          "base_uri": "https://localhost:8080/"
        },
        "id": "wcMrMLnljNre",
        "outputId": "b7fede81-8fd4-49d6-d809-f6d084e55c3e"
      },
      "id": "wcMrMLnljNre",
      "execution_count": 6,
      "outputs": [
        {
          "output_type": "execute_result",
          "data": {
            "text/plain": [
              "[3, 4]"
            ]
          },
          "metadata": {},
          "execution_count": 6
        }
      ]
    },
    {
      "cell_type": "code",
      "source": [
        "y[3]"
      ],
      "metadata": {
        "colab": {
          "base_uri": "https://localhost:8080/"
        },
        "id": "4F0D-VWijVJO",
        "outputId": "27a8c8f6-f284-4835-8811-838679b63db4"
      },
      "id": "4F0D-VWijVJO",
      "execution_count": 7,
      "outputs": [
        {
          "output_type": "execute_result",
          "data": {
            "text/plain": [
              "[3, 4]"
            ]
          },
          "metadata": {},
          "execution_count": 7
        }
      ]
    },
    {
      "cell_type": "code",
      "source": [
        "y[3][0]   # Selecting nested element/list"
      ],
      "metadata": {
        "colab": {
          "base_uri": "https://localhost:8080/"
        },
        "id": "edhG0nYGjYSy",
        "outputId": "4445a0bb-ef1a-4541-bb0c-0116ffe13b16"
      },
      "id": "edhG0nYGjYSy",
      "execution_count": 10,
      "outputs": [
        {
          "output_type": "execute_result",
          "data": {
            "text/plain": [
              "3"
            ]
          },
          "metadata": {},
          "execution_count": 10
        }
      ]
    },
    {
      "cell_type": "code",
      "source": [
        "new_list = [\"apple\", \"cucumber\", \"pineapple\", \"grapes\", \"lemon\"] # Again, you use quotes when dealing with strings\n",
        "print(new_list)"
      ],
      "metadata": {
        "colab": {
          "base_uri": "https://localhost:8080/"
        },
        "id": "vgBISP5gjgyg",
        "outputId": "f839316f-47b1-464e-a86b-7c20b2716d1c"
      },
      "id": "vgBISP5gjgyg",
      "execution_count": 11,
      "outputs": [
        {
          "output_type": "stream",
          "name": "stdout",
          "text": [
            "['apple', 'cucumber', 'pineapple', 'grapes', 'lemon']\n"
          ]
        }
      ]
    },
    {
      "cell_type": "code",
      "source": [
        "new_list[-1:]   # -1: means end of a list"
      ],
      "metadata": {
        "colab": {
          "base_uri": "https://localhost:8080/"
        },
        "id": "_u96cRxskJgK",
        "outputId": "a33038fa-9524-437f-9a87-cfdc9cb7bcf9"
      },
      "id": "_u96cRxskJgK",
      "execution_count": 13,
      "outputs": [
        {
          "output_type": "execute_result",
          "data": {
            "text/plain": [
              "['lemon']"
            ]
          },
          "metadata": {},
          "execution_count": 13
        }
      ]
    },
    {
      "cell_type": "code",
      "source": [
        "new_list[:-1]   # everything except the last item in the list"
      ],
      "metadata": {
        "colab": {
          "base_uri": "https://localhost:8080/"
        },
        "id": "_Wjo_xwSkM61",
        "outputId": "bafa4bab-fcd9-425a-cdd0-c3aca23695a0"
      },
      "id": "_Wjo_xwSkM61",
      "execution_count": 15,
      "outputs": [
        {
          "output_type": "execute_result",
          "data": {
            "text/plain": [
              "['apple', 'cucumber', 'pineapple', 'grapes']"
            ]
          },
          "metadata": {},
          "execution_count": 15
        }
      ]
    },
    {
      "cell_type": "code",
      "source": [
        "# replacing an element in a list\n",
        "new_list[0] = \"cabbage\"\n",
        "print(new_list)"
      ],
      "metadata": {
        "colab": {
          "base_uri": "https://localhost:8080/"
        },
        "id": "1rV0sGlZkrF-",
        "outputId": "b1818c23-7562-4566-8587-b00c1289fcf9"
      },
      "id": "1rV0sGlZkrF-",
      "execution_count": 16,
      "outputs": [
        {
          "output_type": "stream",
          "name": "stdout",
          "text": [
            "['cabbage', 'cucumber', 'pineapple', 'grapes', 'lemon']\n"
          ]
        }
      ]
    },
    {
      "cell_type": "code",
      "source": [
        "nested = [1,2,3,[4,5,['focus']]]"
      ],
      "metadata": {
        "id": "cd4SKwxylHZg"
      },
      "id": "cd4SKwxylHZg",
      "execution_count": 17,
      "outputs": []
    },
    {
      "cell_type": "code",
      "source": [
        "nested[3]"
      ],
      "metadata": {
        "colab": {
          "base_uri": "https://localhost:8080/"
        },
        "id": "REnuCBkVlTsn",
        "outputId": "0d4b3bb8-c180-4259-fa0e-08f7aaddb634"
      },
      "id": "REnuCBkVlTsn",
      "execution_count": 18,
      "outputs": [
        {
          "output_type": "execute_result",
          "data": {
            "text/plain": [
              "[4, 5, ['focus']]"
            ]
          },
          "metadata": {},
          "execution_count": 18
        }
      ]
    },
    {
      "cell_type": "code",
      "source": [
        "nested[3][2]"
      ],
      "metadata": {
        "colab": {
          "base_uri": "https://localhost:8080/"
        },
        "id": "jCklAlPElW06",
        "outputId": "60570c41-2fa5-48b2-ff03-5a5be5c3fe77"
      },
      "id": "jCklAlPElW06",
      "execution_count": 19,
      "outputs": [
        {
          "output_type": "execute_result",
          "data": {
            "text/plain": [
              "['focus']"
            ]
          },
          "metadata": {},
          "execution_count": 19
        }
      ]
    },
    {
      "cell_type": "markdown",
      "source": [
        "### Dictionaries"
      ],
      "metadata": {
        "id": "EKhJ9lualaRs"
      },
      "id": "EKhJ9lualaRs"
    },
    {
      "cell_type": "code",
      "source": [
        "# key: \"value\"\n",
        "# braces is used here NOT square brackets\n",
        "data = {'book':'dataScience','school':'hecMontreal'}"
      ],
      "metadata": {
        "id": "zgJ7KjjmldrJ"
      },
      "id": "zgJ7KjjmldrJ",
      "execution_count": 20,
      "outputs": []
    },
    {
      "cell_type": "code",
      "source": [
        "print(data)"
      ],
      "metadata": {
        "colab": {
          "base_uri": "https://localhost:8080/"
        },
        "id": "sT2iv0oNmExS",
        "outputId": "82b1c3ff-718f-4342-da05-9ba2f5183b51"
      },
      "id": "sT2iv0oNmExS",
      "execution_count": 21,
      "outputs": [
        {
          "output_type": "stream",
          "name": "stdout",
          "text": [
            "{'book': 'dataScience', 'school': 'hecMontreal'}\n"
          ]
        }
      ]
    },
    {
      "cell_type": "code",
      "source": [
        "data['book']   # to select elements in a dictionary, you use\n",
        "               # the key (NOT numbers)"
      ],
      "metadata": {
        "colab": {
          "base_uri": "https://localhost:8080/",
          "height": 35
        },
        "id": "It2-fYxxmVRB",
        "outputId": "ec355d13-2cfd-4d3e-cbec-9e4f2560b94d"
      },
      "id": "It2-fYxxmVRB",
      "execution_count": 30,
      "outputs": [
        {
          "output_type": "execute_result",
          "data": {
            "text/plain": [
              "'dataScience'"
            ],
            "application/vnd.google.colaboratory.intrinsic+json": {
              "type": "string"
            }
          },
          "metadata": {},
          "execution_count": 30
        }
      ]
    },
    {
      "cell_type": "code",
      "source": [
        "data[\"school\"]"
      ],
      "metadata": {
        "colab": {
          "base_uri": "https://localhost:8080/",
          "height": 35
        },
        "id": "sLIC7pANmlrm",
        "outputId": "513c0906-e064-4c95-aa19-284dfedcea90"
      },
      "id": "sLIC7pANmlrm",
      "execution_count": 31,
      "outputs": [
        {
          "output_type": "execute_result",
          "data": {
            "text/plain": [
              "'hecMontreal'"
            ],
            "application/vnd.google.colaboratory.intrinsic+json": {
              "type": "string"
            }
          },
          "metadata": {},
          "execution_count": 31
        }
      ]
    },
    {
      "cell_type": "code",
      "source": [
        "data1={'k1':[1,2,3]}"
      ],
      "metadata": {
        "id": "fzHPJ5jcm-aS"
      },
      "id": "fzHPJ5jcm-aS",
      "execution_count": 32,
      "outputs": []
    },
    {
      "cell_type": "code",
      "source": [
        "data1['k1'][0]   # we do this (used number at some point), because\n",
        "                 # the values in this particular dict. is a list"
      ],
      "metadata": {
        "colab": {
          "base_uri": "https://localhost:8080/"
        },
        "id": "cExsBayXnLen",
        "outputId": "7373467c-abdd-4f37-e98d-7cde41e64200"
      },
      "id": "cExsBayXnLen",
      "execution_count": 33,
      "outputs": [
        {
          "output_type": "execute_result",
          "data": {
            "text/plain": [
              "1"
            ]
          },
          "metadata": {},
          "execution_count": 33
        }
      ]
    },
    {
      "cell_type": "code",
      "source": [
        "data1['k1'][1]"
      ],
      "metadata": {
        "colab": {
          "base_uri": "https://localhost:8080/"
        },
        "id": "ASBYMUzJnSBD",
        "outputId": "4d8f38f7-1338-4d6c-8182-6d036bff6803"
      },
      "id": "ASBYMUzJnSBD",
      "execution_count": 34,
      "outputs": [
        {
          "output_type": "execute_result",
          "data": {
            "text/plain": [
              "2"
            ]
          },
          "metadata": {},
          "execution_count": 34
        }
      ]
    },
    {
      "cell_type": "code",
      "source": [
        "data1['k1'][2]"
      ],
      "metadata": {
        "colab": {
          "base_uri": "https://localhost:8080/"
        },
        "id": "7HEPe2v3nmcR",
        "outputId": "79e58d3a-b45e-40ad-83a6-398aba4e7b3a"
      },
      "id": "7HEPe2v3nmcR",
      "execution_count": 36,
      "outputs": [
        {
          "output_type": "execute_result",
          "data": {
            "text/plain": [
              "3"
            ]
          },
          "metadata": {},
          "execution_count": 36
        }
      ]
    },
    {
      "cell_type": "markdown",
      "source": [
        "### Boleans"
      ],
      "metadata": {
        "id": "YZqsKiaPnuGS"
      },
      "id": "YZqsKiaPnuGS"
    },
    {
      "cell_type": "code",
      "source": [
        "True"
      ],
      "metadata": {
        "colab": {
          "base_uri": "https://localhost:8080/"
        },
        "id": "VjqL2XEXnoaJ",
        "outputId": "d19497b2-ec81-44a5-daf8-ace63632c89b"
      },
      "id": "VjqL2XEXnoaJ",
      "execution_count": 37,
      "outputs": [
        {
          "output_type": "execute_result",
          "data": {
            "text/plain": [
              "True"
            ]
          },
          "metadata": {},
          "execution_count": 37
        }
      ]
    },
    {
      "cell_type": "code",
      "source": [
        "False"
      ],
      "metadata": {
        "colab": {
          "base_uri": "https://localhost:8080/"
        },
        "id": "s7icZ9_mnzXD",
        "outputId": "95d04df5-61b3-41a6-d11b-552f945df8c4"
      },
      "id": "s7icZ9_mnzXD",
      "execution_count": 38,
      "outputs": [
        {
          "output_type": "execute_result",
          "data": {
            "text/plain": [
              "False"
            ]
          },
          "metadata": {},
          "execution_count": 38
        }
      ]
    },
    {
      "cell_type": "code",
      "source": [
        "2 > 3"
      ],
      "metadata": {
        "colab": {
          "base_uri": "https://localhost:8080/"
        },
        "id": "yJVhigKwn0zh",
        "outputId": "cdddf153-413c-4d31-f90d-cd8bdb08673d"
      },
      "id": "yJVhigKwn0zh",
      "execution_count": 39,
      "outputs": [
        {
          "output_type": "execute_result",
          "data": {
            "text/plain": [
              "False"
            ]
          },
          "metadata": {},
          "execution_count": 39
        }
      ]
    },
    {
      "cell_type": "code",
      "source": [
        "2 == 2   # not 2 = 2, this '=' in Python is used for assigning values\n",
        "         # for instance, to a variable."
      ],
      "metadata": {
        "colab": {
          "base_uri": "https://localhost:8080/"
        },
        "id": "E081FoQFn3UQ",
        "outputId": "80cd7e8c-b1ac-4e28-95b6-435d9906cc2b"
      },
      "id": "E081FoQFn3UQ",
      "execution_count": 41,
      "outputs": [
        {
          "output_type": "execute_result",
          "data": {
            "text/plain": [
              "True"
            ]
          },
          "metadata": {},
          "execution_count": 41
        }
      ]
    },
    {
      "cell_type": "code",
      "source": [
        "3 > 1"
      ],
      "metadata": {
        "colab": {
          "base_uri": "https://localhost:8080/"
        },
        "id": "DP67qK8sn5S2",
        "outputId": "cf8e04bb-775e-48b1-aae0-0efa21ef9a6c"
      },
      "id": "DP67qK8sn5S2",
      "execution_count": 42,
      "outputs": [
        {
          "output_type": "execute_result",
          "data": {
            "text/plain": [
              "True"
            ]
          },
          "metadata": {},
          "execution_count": 42
        }
      ]
    },
    {
      "cell_type": "code",
      "source": [],
      "metadata": {
        "id": "2NyIXj1roP5b"
      },
      "id": "2NyIXj1roP5b",
      "execution_count": null,
      "outputs": []
    }
  ],
  "metadata": {
    "kernelspec": {
      "display_name": "Python 3 (ipykernel)",
      "language": "python",
      "name": "python3"
    },
    "language_info": {
      "codemirror_mode": {
        "name": "ipython",
        "version": 3
      },
      "file_extension": ".py",
      "mimetype": "text/x-python",
      "name": "python",
      "nbconvert_exporter": "python",
      "pygments_lexer": "ipython3",
      "version": "3.9.13"
    },
    "colab": {
      "provenance": [],
      "include_colab_link": true
    }
  },
  "nbformat": 4,
  "nbformat_minor": 5
}