{
  "cells": [
    {
      "cell_type": "markdown",
      "metadata": {
        "id": "view-in-github",
        "colab_type": "text"
      },
      "source": [
        "<a href=\"https://colab.research.google.com/github/VICTORIA-OKESIPE/Python-Beginner-Refresher-Kit/blob/main/From_Scratch_Python_for_Data_Science_and_Machine_Learning.ipynb\" target=\"_parent\"><img src=\"https://colab.research.google.com/assets/colab-badge.svg\" alt=\"Open In Colab\"/></a>"
      ]
    },
    {
      "cell_type": "markdown",
      "id": "9108a8a7",
      "metadata": {
        "id": "9108a8a7"
      },
      "source": [
        "# Data Types"
      ]
    },
    {
      "cell_type": "markdown",
      "id": "9563073a",
      "metadata": {
        "id": "9563073a"
      },
      "source": [
        "### Numbers"
      ]
    },
    {
      "cell_type": "code",
      "execution_count": 1,
      "id": "8fb2e27d",
      "metadata": {
        "id": "8fb2e27d",
        "outputId": "53c9c698-6991-4c73-b349-4bc36bc8495f",
        "colab": {
          "base_uri": "https://localhost:8080/"
        }
      },
      "outputs": [
        {
          "output_type": "execute_result",
          "data": {
            "text/plain": [
              "5"
            ]
          },
          "metadata": {},
          "execution_count": 1
        }
      ],
      "source": [
        "# Addition\n",
        "2 + 3"
      ]
    },
    {
      "cell_type": "code",
      "execution_count": 2,
      "id": "94949a28",
      "metadata": {
        "id": "94949a28",
        "outputId": "906e45c4-9492-4e04-c7ab-725ef4e35e41",
        "colab": {
          "base_uri": "https://localhost:8080/"
        }
      },
      "outputs": [
        {
          "output_type": "execute_result",
          "data": {
            "text/plain": [
              "3"
            ]
          },
          "metadata": {},
          "execution_count": 2
        }
      ],
      "source": [
        "# Subtraction\n",
        "10 - 7"
      ]
    },
    {
      "cell_type": "code",
      "execution_count": 3,
      "id": "d342f052",
      "metadata": {
        "id": "d342f052",
        "outputId": "a30f227b-1b14-4043-9190-b0b0d598cbd0",
        "colab": {
          "base_uri": "https://localhost:8080/"
        }
      },
      "outputs": [
        {
          "output_type": "execute_result",
          "data": {
            "text/plain": [
              "5"
            ]
          },
          "metadata": {},
          "execution_count": 3
        }
      ],
      "source": [
        "# Division (return quotient)\n",
        "15 // 3"
      ]
    },
    {
      "cell_type": "code",
      "execution_count": 4,
      "id": "c45f93a4",
      "metadata": {
        "id": "c45f93a4",
        "outputId": "3739647d-3c14-4282-d8b2-ca8c573f817b",
        "colab": {
          "base_uri": "https://localhost:8080/"
        }
      },
      "outputs": [
        {
          "output_type": "execute_result",
          "data": {
            "text/plain": [
              "7"
            ]
          },
          "metadata": {},
          "execution_count": 4
        }
      ],
      "source": [
        "# Division (return quotient)\n",
        "15 // 2"
      ]
    },
    {
      "cell_type": "code",
      "execution_count": 5,
      "id": "1cd279f7",
      "metadata": {
        "id": "1cd279f7",
        "outputId": "86228efd-fa61-4517-ec09-a17a8eb8b482",
        "colab": {
          "base_uri": "https://localhost:8080/"
        }
      },
      "outputs": [
        {
          "output_type": "execute_result",
          "data": {
            "text/plain": [
              "1"
            ]
          },
          "metadata": {},
          "execution_count": 5
        }
      ],
      "source": [
        "# Division (return remainder)\n",
        "15 % 2"
      ]
    },
    {
      "cell_type": "code",
      "execution_count": 6,
      "id": "a9cdd8e9",
      "metadata": {
        "id": "a9cdd8e9",
        "outputId": "f2384252-ab7f-46ba-fd27-968eafacc147",
        "colab": {
          "base_uri": "https://localhost:8080/"
        }
      },
      "outputs": [
        {
          "output_type": "execute_result",
          "data": {
            "text/plain": [
              "15"
            ]
          },
          "metadata": {},
          "execution_count": 6
        }
      ],
      "source": [
        "# Multiplication\n",
        "3 * 5"
      ]
    },
    {
      "cell_type": "code",
      "execution_count": 7,
      "id": "27ff88f2",
      "metadata": {
        "id": "27ff88f2",
        "outputId": "09ce187d-a648-47f2-8b13-661ccdaf8eaf",
        "colab": {
          "base_uri": "https://localhost:8080/"
        }
      },
      "outputs": [
        {
          "output_type": "execute_result",
          "data": {
            "text/plain": [
              "25"
            ]
          },
          "metadata": {},
          "execution_count": 7
        }
      ],
      "source": [
        "# Exponents\n",
        "5**2"
      ]
    },
    {
      "cell_type": "markdown",
      "id": "3028c572",
      "metadata": {
        "id": "3028c572"
      },
      "source": [
        "### Variables"
      ]
    },
    {
      "cell_type": "code",
      "execution_count": 8,
      "id": "50acd856",
      "metadata": {
        "id": "50acd856"
      },
      "outputs": [],
      "source": [
        "no_of_icecream_cones = 2 #(Variable naming type = Snake type)\n",
        "NoOfIcecreamCones = 2    #(Variable naming type = Pascal type)\n",
        "noOfIcecreamCones = 2    #(Variable naming type = Carmel type)"
      ]
    },
    {
      "cell_type": "code",
      "execution_count": 9,
      "id": "168adf9b",
      "metadata": {
        "id": "168adf9b"
      },
      "outputs": [],
      "source": [
        "a = 5\n",
        "b = 10\n",
        "c = 15\n",
        "d = a + b"
      ]
    },
    {
      "cell_type": "code",
      "execution_count": 10,
      "id": "5986b37b",
      "metadata": {
        "id": "5986b37b",
        "outputId": "8144b490-4c2e-42dd-f1c7-9cff3495c61a",
        "colab": {
          "base_uri": "https://localhost:8080/"
        }
      },
      "outputs": [
        {
          "output_type": "execute_result",
          "data": {
            "text/plain": [
              "15"
            ]
          },
          "metadata": {},
          "execution_count": 10
        }
      ],
      "source": [
        "d"
      ]
    },
    {
      "cell_type": "markdown",
      "id": "8ccf20af",
      "metadata": {
        "id": "8ccf20af"
      },
      "source": [
        "### Strings"
      ]
    },
    {
      "cell_type": "code",
      "execution_count": 11,
      "id": "f051cdf5",
      "metadata": {
        "id": "f051cdf5"
      },
      "outputs": [],
      "source": [
        "# Strings are like sentences. You always need to quote them. You can single quote\n",
        "# or double quote them"
      ]
    },
    {
      "cell_type": "code",
      "execution_count": 12,
      "id": "d26b5697",
      "metadata": {
        "id": "d26b5697"
      },
      "outputs": [],
      "source": [
        "text1 = \"I am currently in Canada for an Internship Program\""
      ]
    },
    {
      "cell_type": "code",
      "execution_count": 13,
      "id": "2761654e",
      "metadata": {
        "id": "2761654e",
        "outputId": "0ddc6cd2-c6f7-40c3-ade9-c1dc152cc083",
        "colab": {
          "base_uri": "https://localhost:8080/",
          "height": 36
        }
      },
      "outputs": [
        {
          "output_type": "execute_result",
          "data": {
            "text/plain": [
              "'I am currently in Canada for an Internship Program'"
            ],
            "application/vnd.google.colaboratory.intrinsic+json": {
              "type": "string"
            }
          },
          "metadata": {},
          "execution_count": 13
        }
      ],
      "source": [
        "text1"
      ]
    },
    {
      "cell_type": "code",
      "execution_count": 14,
      "id": "c9af1456",
      "metadata": {
        "id": "c9af1456"
      },
      "outputs": [],
      "source": [
        "text2 = 'You can also use single quote'"
      ]
    },
    {
      "cell_type": "code",
      "execution_count": 15,
      "id": "e79b6a9b",
      "metadata": {
        "id": "e79b6a9b",
        "outputId": "48072088-0b7f-446e-9344-5a14b1aba006",
        "colab": {
          "base_uri": "https://localhost:8080/",
          "height": 36
        }
      },
      "outputs": [
        {
          "output_type": "execute_result",
          "data": {
            "text/plain": [
              "'You can also use single quote'"
            ],
            "application/vnd.google.colaboratory.intrinsic+json": {
              "type": "string"
            }
          },
          "metadata": {},
          "execution_count": 15
        }
      ],
      "source": [
        "text2"
      ]
    },
    {
      "cell_type": "code",
      "execution_count": null,
      "id": "64234994",
      "metadata": {
        "id": "64234994"
      },
      "outputs": [],
      "source": [
        "# same result"
      ]
    },
    {
      "cell_type": "markdown",
      "id": "a417b401",
      "metadata": {
        "id": "a417b401"
      },
      "source": [
        "### Printing"
      ]
    },
    {
      "cell_type": "code",
      "execution_count": 17,
      "id": "11a40f8e",
      "metadata": {
        "id": "11a40f8e"
      },
      "outputs": [],
      "source": [
        "a = \"Don't break the flow, keep doing it, at least one hour a day!\" # I prefer double quotes ...hahahaha, your choice"
      ]
    },
    {
      "cell_type": "code",
      "execution_count": 18,
      "id": "5310e142",
      "metadata": {
        "id": "5310e142",
        "outputId": "6f37385a-08e5-477b-af56-28f9e0d2485f",
        "colab": {
          "base_uri": "https://localhost:8080/"
        }
      },
      "outputs": [
        {
          "output_type": "stream",
          "name": "stdout",
          "text": [
            "Don't break the flow, keep doing it, at least one hour a day!\n"
          ]
        }
      ],
      "source": [
        "print(a)"
      ]
    },
    {
      "cell_type": "code",
      "execution_count": 19,
      "id": "6adadccb",
      "metadata": {
        "id": "6adadccb",
        "outputId": "97236507-6ed2-4d21-e215-a29c0b015452",
        "colab": {
          "base_uri": "https://localhost:8080/"
        }
      },
      "outputs": [
        {
          "output_type": "stream",
          "name": "stdout",
          "text": [
            "Never give up!\n"
          ]
        }
      ],
      "source": [
        "print(\"Never give up!\")"
      ]
    },
    {
      "cell_type": "code",
      "execution_count": 20,
      "id": "a5dfe697",
      "metadata": {
        "id": "a5dfe697",
        "outputId": "58ae5d46-baef-42fd-eacd-bd4cf7915b0a",
        "colab": {
          "base_uri": "https://localhost:8080/"
        }
      },
      "outputs": [
        {
          "name": "stdout",
          "output_type": "stream",
          "text": [
            "Enter your First name: Victoria\n",
            "Enter your Birthdate (e.g., May 3rd): May 3rd\n"
          ]
        }
      ],
      "source": [
        "# Accepting Input Variable from User\n",
        "name = input(\"Enter your First name: \")\n",
        "birthday = input(\"Enter your Birthdate (e.g., May 3rd): \")"
      ]
    },
    {
      "cell_type": "code",
      "execution_count": 21,
      "id": "8de88785",
      "metadata": {
        "id": "8de88785",
        "outputId": "9e799e61-a355-4825-d64d-e8161338200a",
        "colab": {
          "base_uri": "https://localhost:8080/"
        }
      },
      "outputs": [
        {
          "output_type": "stream",
          "name": "stdout",
          "text": [
            "Victoria's birthday is May 3rd.\n"
          ]
        }
      ],
      "source": [
        "print(\"{}'s birthday is {}.\".format(name,birthday))"
      ]
    },
    {
      "cell_type": "code",
      "execution_count": 22,
      "id": "8a867c9c",
      "metadata": {
        "id": "8a867c9c",
        "outputId": "3707b028-2cc6-4365-9735-fda30ad37008",
        "colab": {
          "base_uri": "https://localhost:8080/"
        }
      },
      "outputs": [
        {
          "output_type": "stream",
          "name": "stdout",
          "text": [
            "Victoria's birthday is May 3rd.\n"
          ]
        }
      ],
      "source": [
        "print(name + \"'s birthday is \" + birthday + \".\")"
      ]
    },
    {
      "cell_type": "code",
      "execution_count": 23,
      "id": "022260b7",
      "metadata": {
        "id": "022260b7"
      },
      "outputs": [],
      "source": [
        "age = 23"
      ]
    },
    {
      "cell_type": "code",
      "execution_count": 24,
      "id": "31108040",
      "metadata": {
        "id": "31108040",
        "outputId": "8f2b91e6-db31-4a8d-c543-eca2747f62b1",
        "colab": {
          "base_uri": "https://localhost:8080/"
        }
      },
      "outputs": [
        {
          "output_type": "stream",
          "name": "stdout",
          "text": [
            "23\n"
          ]
        }
      ],
      "source": [
        "print(age)"
      ]
    },
    {
      "cell_type": "code",
      "execution_count": 25,
      "id": "23c7eb9d",
      "metadata": {
        "id": "23c7eb9d"
      },
      "outputs": [],
      "source": [
        "occupation = \"Intern\"   # Remember to always use quotes for text"
      ]
    },
    {
      "cell_type": "code",
      "execution_count": 26,
      "id": "9e6f98d4",
      "metadata": {
        "id": "9e6f98d4",
        "outputId": "f719b393-0b7a-44f0-e4ab-29ba38689e95",
        "colab": {
          "base_uri": "https://localhost:8080/"
        }
      },
      "outputs": [
        {
          "output_type": "stream",
          "name": "stdout",
          "text": [
            "Intern\n"
          ]
        }
      ],
      "source": [
        "print(occupation)"
      ]
    },
    {
      "cell_type": "markdown",
      "id": "8f56fc92",
      "metadata": {
        "id": "8f56fc92"
      },
      "source": [
        "### Lists"
      ]
    },
    {
      "cell_type": "code",
      "execution_count": 27,
      "id": "c91e6c1b",
      "metadata": {
        "id": "c91e6c1b",
        "outputId": "dbdfd7f0-5460-4da7-c5d8-7743133ae0f5",
        "colab": {
          "base_uri": "https://localhost:8080/"
        }
      },
      "outputs": [
        {
          "output_type": "execute_result",
          "data": {
            "text/plain": [
              "[7, 8, 9, 10]"
            ]
          },
          "metadata": {},
          "execution_count": 27
        }
      ],
      "source": [
        "[7,8,9,10]"
      ]
    },
    {
      "cell_type": "code",
      "execution_count": 28,
      "id": "f2f64ec6",
      "metadata": {
        "id": "f2f64ec6"
      },
      "outputs": [],
      "source": [
        "x = [7,8,9,10]"
      ]
    },
    {
      "cell_type": "code",
      "execution_count": 29,
      "id": "61591bd1",
      "metadata": {
        "id": "61591bd1",
        "outputId": "b81bb48f-e4e0-4809-c010-da2c47ab8af0",
        "colab": {
          "base_uri": "https://localhost:8080/"
        }
      },
      "outputs": [
        {
          "output_type": "stream",
          "name": "stdout",
          "text": [
            "['apple', 'cucumber', 'pineapple', 'grapes', 'lemon']\n"
          ]
        }
      ],
      "source": [
        "new_list = [\"apple\", \"cucumber\", \"pineapple\", \"grapes\", \"lemon\"] # Again, you use quotes when dealing with strings\n",
        "print(new_list)"
      ]
    },
    {
      "cell_type": "code",
      "execution_count": 30,
      "id": "24517188",
      "metadata": {
        "id": "24517188"
      },
      "outputs": [],
      "source": [
        "# list of list\n",
        "y = [\"apple\", 1, 2, ]"
      ]
    },
    {
      "cell_type": "code",
      "execution_count": 31,
      "id": "55d228d9",
      "metadata": {
        "id": "55d228d9"
      },
      "outputs": [],
      "source": [
        "nested = [1,2,3,[4,5,['target']]]"
      ]
    },
    {
      "cell_type": "code",
      "source": [
        "nested[3]"
      ],
      "metadata": {
        "colab": {
          "base_uri": "https://localhost:8080/"
        },
        "id": "Ah_BDzyUq4JJ",
        "outputId": "b3aa2c06-84b2-4225-a36a-201c184b33a2"
      },
      "id": "Ah_BDzyUq4JJ",
      "execution_count": 32,
      "outputs": [
        {
          "output_type": "execute_result",
          "data": {
            "text/plain": [
              "[4, 5, ['target']]"
            ]
          },
          "metadata": {},
          "execution_count": 32
        }
      ]
    },
    {
      "cell_type": "code",
      "source": [
        "nested[3][2]"
      ],
      "metadata": {
        "colab": {
          "base_uri": "https://localhost:8080/"
        },
        "id": "oJgJfRC6q6Jq",
        "outputId": "71ee1803-6f13-4a0b-8567-0f802bbe9314"
      },
      "id": "oJgJfRC6q6Jq",
      "execution_count": 33,
      "outputs": [
        {
          "output_type": "execute_result",
          "data": {
            "text/plain": [
              "['target']"
            ]
          },
          "metadata": {},
          "execution_count": 33
        }
      ]
    },
    {
      "cell_type": "code",
      "source": [
        "nested[3][2][0]"
      ],
      "metadata": {
        "colab": {
          "base_uri": "https://localhost:8080/",
          "height": 36
        },
        "id": "TeMEmA5WrHwE",
        "outputId": "23eae007-7feb-4488-e910-f1b70678221c"
      },
      "id": "TeMEmA5WrHwE",
      "execution_count": 34,
      "outputs": [
        {
          "output_type": "execute_result",
          "data": {
            "text/plain": [
              "'target'"
            ],
            "application/vnd.google.colaboratory.intrinsic+json": {
              "type": "string"
            }
          },
          "metadata": {},
          "execution_count": 34
        }
      ]
    },
    {
      "cell_type": "markdown",
      "source": [
        "### Dictionaries"
      ],
      "metadata": {
        "id": "O06KA2_crUi4"
      },
      "id": "O06KA2_crUi4"
    },
    {
      "cell_type": "code",
      "source": [
        "# dictionary - key to value pair\n",
        "x = {'key1':'item1','key2':'item2'}"
      ],
      "metadata": {
        "id": "2h2jsFEmrMvp"
      },
      "id": "2h2jsFEmrMvp",
      "execution_count": 35,
      "outputs": []
    },
    {
      "cell_type": "code",
      "source": [
        "x['key1']"
      ],
      "metadata": {
        "colab": {
          "base_uri": "https://localhost:8080/",
          "height": 36
        },
        "id": "2zN84F7zrjHc",
        "outputId": "2ead2031-5c8b-4d2d-a6e1-57344119b92d"
      },
      "id": "2zN84F7zrjHc",
      "execution_count": 36,
      "outputs": [
        {
          "output_type": "execute_result",
          "data": {
            "text/plain": [
              "'item1'"
            ],
            "application/vnd.google.colaboratory.intrinsic+json": {
              "type": "string"
            }
          },
          "metadata": {},
          "execution_count": 36
        }
      ]
    },
    {
      "cell_type": "code",
      "source": [
        "y1={'d1':[1,2,3]}"
      ],
      "metadata": {
        "id": "vXEgD1YPrlyh"
      },
      "id": "vXEgD1YPrlyh",
      "execution_count": 42,
      "outputs": []
    },
    {
      "cell_type": "code",
      "source": [
        "y1['d1'][1]"
      ],
      "metadata": {
        "colab": {
          "base_uri": "https://localhost:8080/"
        },
        "id": "3RHkHpTNrqgT",
        "outputId": "2c7a136b-b508-439f-fea5-a2c3f5354b54"
      },
      "id": "3RHkHpTNrqgT",
      "execution_count": 43,
      "outputs": [
        {
          "output_type": "execute_result",
          "data": {
            "text/plain": [
              "2"
            ]
          },
          "metadata": {},
          "execution_count": 43
        }
      ]
    },
    {
      "cell_type": "markdown",
      "source": [
        "### Booleans"
      ],
      "metadata": {
        "id": "K1hL0yR7sC_M"
      },
      "id": "K1hL0yR7sC_M"
    },
    {
      "cell_type": "code",
      "source": [
        "2 > 3"
      ],
      "metadata": {
        "colab": {
          "base_uri": "https://localhost:8080/"
        },
        "id": "bVIomrM4ry-E",
        "outputId": "bc4901dd-35d9-465b-a2f3-16e657632a75"
      },
      "id": "bVIomrM4ry-E",
      "execution_count": 44,
      "outputs": [
        {
          "output_type": "execute_result",
          "data": {
            "text/plain": [
              "False"
            ]
          },
          "metadata": {},
          "execution_count": 44
        }
      ]
    },
    {
      "cell_type": "code",
      "source": [
        "3 > 2"
      ],
      "metadata": {
        "colab": {
          "base_uri": "https://localhost:8080/"
        },
        "id": "KKzQhQhhsJRQ",
        "outputId": "0a748cf4-0e41-404b-e21a-7d5b9e28b749"
      },
      "id": "KKzQhQhhsJRQ",
      "execution_count": 45,
      "outputs": [
        {
          "output_type": "execute_result",
          "data": {
            "text/plain": [
              "True"
            ]
          },
          "metadata": {},
          "execution_count": 45
        }
      ]
    },
    {
      "cell_type": "code",
      "source": [
        "3 == 3"
      ],
      "metadata": {
        "colab": {
          "base_uri": "https://localhost:8080/"
        },
        "id": "mXfFfPytsLWc",
        "outputId": "8f1a862a-b89f-41ea-cbe9-5da770702b68"
      },
      "id": "mXfFfPytsLWc",
      "execution_count": 47,
      "outputs": [
        {
          "output_type": "execute_result",
          "data": {
            "text/plain": [
              "True"
            ]
          },
          "metadata": {},
          "execution_count": 47
        }
      ]
    },
    {
      "cell_type": "code",
      "source": [
        "3 != 3"
      ],
      "metadata": {
        "colab": {
          "base_uri": "https://localhost:8080/"
        },
        "id": "MK-DdYHGsMbE",
        "outputId": "e3d00477-798b-4a00-f0ac-0bee7d5dcc58"
      },
      "id": "MK-DdYHGsMbE",
      "execution_count": 49,
      "outputs": [
        {
          "output_type": "execute_result",
          "data": {
            "text/plain": [
              "False"
            ]
          },
          "metadata": {},
          "execution_count": 49
        }
      ]
    },
    {
      "cell_type": "code",
      "source": [
        "True"
      ],
      "metadata": {
        "colab": {
          "base_uri": "https://localhost:8080/"
        },
        "id": "dgOoewIusQl9",
        "outputId": "512f1fa0-843c-41f9-c115-9f645cf25726"
      },
      "id": "dgOoewIusQl9",
      "execution_count": 50,
      "outputs": [
        {
          "output_type": "execute_result",
          "data": {
            "text/plain": [
              "True"
            ]
          },
          "metadata": {},
          "execution_count": 50
        }
      ]
    },
    {
      "cell_type": "code",
      "source": [
        "False"
      ],
      "metadata": {
        "colab": {
          "base_uri": "https://localhost:8080/"
        },
        "id": "7XvmPqAhsYak",
        "outputId": "52330a70-4b2a-4923-e5d2-59e10d2b8fe8"
      },
      "id": "7XvmPqAhsYak",
      "execution_count": 51,
      "outputs": [
        {
          "output_type": "execute_result",
          "data": {
            "text/plain": [
              "False"
            ]
          },
          "metadata": {},
          "execution_count": 51
        }
      ]
    },
    {
      "cell_type": "markdown",
      "source": [
        "### Tuples"
      ],
      "metadata": {
        "id": "4LEjl8lfsait"
      },
      "id": "4LEjl8lfsait"
    },
    {
      "cell_type": "code",
      "source": [
        "t = (1,2,3)"
      ],
      "metadata": {
        "id": "aBBIyJ5rsZf2"
      },
      "id": "aBBIyJ5rsZf2",
      "execution_count": 52,
      "outputs": []
    },
    {
      "cell_type": "code",
      "source": [
        "t[0]"
      ],
      "metadata": {
        "colab": {
          "base_uri": "https://localhost:8080/"
        },
        "id": "kP2VV6eVshDU",
        "outputId": "b37ef8f2-bd99-465f-ff7f-90ab6fd9e430"
      },
      "id": "kP2VV6eVshDU",
      "execution_count": 53,
      "outputs": [
        {
          "output_type": "execute_result",
          "data": {
            "text/plain": [
              "1"
            ]
          },
          "metadata": {},
          "execution_count": 53
        }
      ]
    },
    {
      "cell_type": "code",
      "source": [
        "t[0] = 1  #tuples won't work when you try to assign values to them"
      ],
      "metadata": {
        "colab": {
          "base_uri": "https://localhost:8080/",
          "height": 181
        },
        "id": "xDB9gVtVswcD",
        "outputId": "457bd280-3192-42c1-bf73-b2139b6e2771"
      },
      "id": "xDB9gVtVswcD",
      "execution_count": 55,
      "outputs": [
        {
          "output_type": "error",
          "ename": "TypeError",
          "evalue": "ignored",
          "traceback": [
            "\u001b[0;31m---------------------------------------------------------------------------\u001b[0m",
            "\u001b[0;31mTypeError\u001b[0m                                 Traceback (most recent call last)",
            "\u001b[0;32m<ipython-input-55-8f112d1a6106>\u001b[0m in \u001b[0;36m<cell line: 1>\u001b[0;34m()\u001b[0m\n\u001b[0;32m----> 1\u001b[0;31m \u001b[0mt\u001b[0m\u001b[0;34m[\u001b[0m\u001b[0;36m0\u001b[0m\u001b[0;34m]\u001b[0m \u001b[0;34m=\u001b[0m \u001b[0;36m1\u001b[0m  \u001b[0;31m#tuples won't work when you try to assign values to them\u001b[0m\u001b[0;34m\u001b[0m\u001b[0;34m\u001b[0m\u001b[0m\n\u001b[0m",
            "\u001b[0;31mTypeError\u001b[0m: 'tuple' object does not support item assignment"
          ]
        }
      ]
    },
    {
      "cell_type": "markdown",
      "source": [
        "### Sets"
      ],
      "metadata": {
        "id": "z-Wdm-xrtBf7"
      },
      "id": "z-Wdm-xrtBf7"
    },
    {
      "cell_type": "code",
      "source": [
        "{1,2,3}"
      ],
      "metadata": {
        "colab": {
          "base_uri": "https://localhost:8080/"
        },
        "id": "uillYfp0s0XI",
        "outputId": "953ea1f3-30c0-4dd4-ad08-919c88e52d7c"
      },
      "id": "uillYfp0s0XI",
      "execution_count": 56,
      "outputs": [
        {
          "output_type": "execute_result",
          "data": {
            "text/plain": [
              "{1, 2, 3}"
            ]
          },
          "metadata": {},
          "execution_count": 56
        }
      ]
    },
    {
      "cell_type": "code",
      "source": [
        "a = {1,2,3}\n",
        "a.add(4)\n",
        "a"
      ],
      "metadata": {
        "colab": {
          "base_uri": "https://localhost:8080/"
        },
        "id": "apu9SXe-tFmn",
        "outputId": "ac9d47e3-6096-4f5c-b4ed-84fc05a3e979"
      },
      "id": "apu9SXe-tFmn",
      "execution_count": 58,
      "outputs": [
        {
          "output_type": "execute_result",
          "data": {
            "text/plain": [
              "{1, 2, 3, 4}"
            ]
          },
          "metadata": {},
          "execution_count": 58
        }
      ]
    },
    {
      "cell_type": "code",
      "source": [],
      "metadata": {
        "id": "uJTLhJehtLwQ"
      },
      "id": "uJTLhJehtLwQ",
      "execution_count": null,
      "outputs": []
    }
  ],
  "metadata": {
    "kernelspec": {
      "display_name": "Python 3 (ipykernel)",
      "language": "python",
      "name": "python3"
    },
    "language_info": {
      "codemirror_mode": {
        "name": "ipython",
        "version": 3
      },
      "file_extension": ".py",
      "mimetype": "text/x-python",
      "name": "python",
      "nbconvert_exporter": "python",
      "pygments_lexer": "ipython3",
      "version": "3.9.13"
    },
    "colab": {
      "provenance": [],
      "include_colab_link": true
    }
  },
  "nbformat": 4,
  "nbformat_minor": 5
}