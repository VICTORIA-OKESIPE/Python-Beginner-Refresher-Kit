{
  "cells": [
    {
      "cell_type": "markdown",
      "metadata": {
        "id": "view-in-github",
        "colab_type": "text"
      },
      "source": [
        "<a href=\"https://colab.research.google.com/github/VICTORIA-OKESIPE/Python-Beginner-Refresher-Kit/blob/main/From_Scratch_Python_for_Data_Science_and_Machine_Learning.ipynb\" target=\"_parent\"><img src=\"https://colab.research.google.com/assets/colab-badge.svg\" alt=\"Open In Colab\"/></a>"
      ]
    },
    {
      "cell_type": "markdown",
      "id": "9108a8a7",
      "metadata": {
        "id": "9108a8a7"
      },
      "source": [
        "# Data Types"
      ]
    },
    {
      "cell_type": "markdown",
      "id": "9563073a",
      "metadata": {
        "id": "9563073a"
      },
      "source": [
        "### Numbers"
      ]
    },
    {
      "cell_type": "code",
      "execution_count": null,
      "id": "8fb2e27d",
      "metadata": {
        "id": "8fb2e27d",
        "outputId": "dae9c5f3-0b1b-4708-952c-1c050046fe23"
      },
      "outputs": [
        {
          "data": {
            "text/plain": [
              "5"
            ]
          },
          "execution_count": 4,
          "metadata": {},
          "output_type": "execute_result"
        }
      ],
      "source": [
        "# Addition\n",
        "2 + 3"
      ]
    },
    {
      "cell_type": "code",
      "execution_count": null,
      "id": "94949a28",
      "metadata": {
        "id": "94949a28",
        "outputId": "935e2f1d-fb17-49d4-ceb6-79f8a04944b3"
      },
      "outputs": [
        {
          "data": {
            "text/plain": [
              "3"
            ]
          },
          "execution_count": 5,
          "metadata": {},
          "output_type": "execute_result"
        }
      ],
      "source": [
        "# Subtraction\n",
        "10 - 7"
      ]
    },
    {
      "cell_type": "code",
      "execution_count": null,
      "id": "d342f052",
      "metadata": {
        "id": "d342f052",
        "outputId": "99089a1c-bd71-487f-b324-337e5f59824c"
      },
      "outputs": [
        {
          "data": {
            "text/plain": [
              "5"
            ]
          },
          "execution_count": 6,
          "metadata": {},
          "output_type": "execute_result"
        }
      ],
      "source": [
        "# Division (return quotient)\n",
        "15 // 3"
      ]
    },
    {
      "cell_type": "code",
      "execution_count": null,
      "id": "c45f93a4",
      "metadata": {
        "id": "c45f93a4",
        "outputId": "867b8cef-ee51-4972-811f-02046a1f96af"
      },
      "outputs": [
        {
          "data": {
            "text/plain": [
              "7"
            ]
          },
          "execution_count": 7,
          "metadata": {},
          "output_type": "execute_result"
        }
      ],
      "source": [
        "# Division (return quotient)\n",
        "15 // 2"
      ]
    },
    {
      "cell_type": "code",
      "execution_count": null,
      "id": "1cd279f7",
      "metadata": {
        "id": "1cd279f7",
        "outputId": "5ff19f64-fdd3-4ca1-bf05-13a9718f550d"
      },
      "outputs": [
        {
          "data": {
            "text/plain": [
              "1"
            ]
          },
          "execution_count": 8,
          "metadata": {},
          "output_type": "execute_result"
        }
      ],
      "source": [
        "# Division (return remainder)\n",
        "15 % 2"
      ]
    },
    {
      "cell_type": "code",
      "execution_count": null,
      "id": "a9cdd8e9",
      "metadata": {
        "id": "a9cdd8e9",
        "outputId": "4b1f9107-ed59-46c7-c257-fd5a192bd262"
      },
      "outputs": [
        {
          "data": {
            "text/plain": [
              "15"
            ]
          },
          "execution_count": 10,
          "metadata": {},
          "output_type": "execute_result"
        }
      ],
      "source": [
        "# Multiplication\n",
        "3 * 5"
      ]
    },
    {
      "cell_type": "code",
      "execution_count": null,
      "id": "27ff88f2",
      "metadata": {
        "id": "27ff88f2",
        "outputId": "ed5e97c3-4bd3-4fc7-8188-e3711fb54700"
      },
      "outputs": [
        {
          "data": {
            "text/plain": [
              "25"
            ]
          },
          "execution_count": 11,
          "metadata": {},
          "output_type": "execute_result"
        }
      ],
      "source": [
        "# Exponents\n",
        "5**2"
      ]
    },
    {
      "cell_type": "code",
      "execution_count": null,
      "id": "164d1f97",
      "metadata": {
        "id": "164d1f97",
        "outputId": "c0110f3c-d3ea-409d-b1f8-48ecb71eb5b8"
      },
      "outputs": [
        {
          "data": {
            "text/plain": [
              "7"
            ]
          },
          "execution_count": 12,
          "metadata": {},
          "output_type": "execute_result"
        }
      ],
      "source": [
        "# Expon"
      ]
    },
    {
      "cell_type": "markdown",
      "id": "3028c572",
      "metadata": {
        "id": "3028c572"
      },
      "source": [
        "### Variables"
      ]
    },
    {
      "cell_type": "code",
      "execution_count": null,
      "id": "50acd856",
      "metadata": {
        "id": "50acd856"
      },
      "outputs": [],
      "source": [
        "no_of_icecream_cones = 2 #(Variable naming type = snake type)\n",
        "NoOfIcecreamCones = 2    #(Variable naming type = *** type)\n",
        "noOfIcecreamCones = 2    #(Variable naming type = carmel type)"
      ]
    },
    {
      "cell_type": "code",
      "execution_count": null,
      "id": "168adf9b",
      "metadata": {
        "id": "168adf9b"
      },
      "outputs": [],
      "source": [
        "a = 5\n",
        "b = 10\n",
        "c = 15\n",
        "d = a + b"
      ]
    },
    {
      "cell_type": "code",
      "execution_count": null,
      "id": "5986b37b",
      "metadata": {
        "id": "5986b37b",
        "outputId": "c7179716-3fcc-4100-ca06-d01a62442949"
      },
      "outputs": [
        {
          "data": {
            "text/plain": [
              "15"
            ]
          },
          "execution_count": 15,
          "metadata": {},
          "output_type": "execute_result"
        }
      ],
      "source": [
        "d"
      ]
    },
    {
      "cell_type": "markdown",
      "id": "8ccf20af",
      "metadata": {
        "id": "8ccf20af"
      },
      "source": [
        "### Strings"
      ]
    },
    {
      "cell_type": "code",
      "execution_count": null,
      "id": "f051cdf5",
      "metadata": {
        "id": "f051cdf5"
      },
      "outputs": [],
      "source": [
        "# Strings are like sentences. You always need to quote them. You can single quote\n",
        "# or double quote them"
      ]
    },
    {
      "cell_type": "code",
      "execution_count": null,
      "id": "d26b5697",
      "metadata": {
        "id": "d26b5697"
      },
      "outputs": [],
      "source": [
        "text1 = \"I am currently in Canada for an Internship Program\""
      ]
    },
    {
      "cell_type": "code",
      "execution_count": null,
      "id": "2761654e",
      "metadata": {
        "id": "2761654e",
        "outputId": "074f4e5d-b560-4118-a840-36a1605beb15"
      },
      "outputs": [
        {
          "data": {
            "text/plain": [
              "'I am currently in Canada for an Internship Program'"
            ]
          },
          "execution_count": 18,
          "metadata": {},
          "output_type": "execute_result"
        }
      ],
      "source": [
        "text1"
      ]
    },
    {
      "cell_type": "code",
      "execution_count": null,
      "id": "c9af1456",
      "metadata": {
        "id": "c9af1456"
      },
      "outputs": [],
      "source": [
        "text2 = 'You can also use single quote'"
      ]
    },
    {
      "cell_type": "code",
      "execution_count": null,
      "id": "e79b6a9b",
      "metadata": {
        "id": "e79b6a9b",
        "outputId": "e98f5d83-2cf9-44c1-c9d7-07a744350836"
      },
      "outputs": [
        {
          "data": {
            "text/plain": [
              "'You can also use single quote'"
            ]
          },
          "execution_count": 20,
          "metadata": {},
          "output_type": "execute_result"
        }
      ],
      "source": [
        "text2"
      ]
    },
    {
      "cell_type": "code",
      "execution_count": null,
      "id": "64234994",
      "metadata": {
        "id": "64234994"
      },
      "outputs": [],
      "source": [
        "# same result"
      ]
    },
    {
      "cell_type": "markdown",
      "id": "a417b401",
      "metadata": {
        "id": "a417b401"
      },
      "source": [
        "### Printing"
      ]
    },
    {
      "cell_type": "code",
      "execution_count": null,
      "id": "11a40f8e",
      "metadata": {
        "id": "11a40f8e"
      },
      "outputs": [],
      "source": [
        "a = \"Don't break the flow, keep doing it, at least one hour a day!\" # I prefer double quotes ...hahahaha, your choice"
      ]
    },
    {
      "cell_type": "code",
      "execution_count": null,
      "id": "5310e142",
      "metadata": {
        "id": "5310e142",
        "outputId": "da0b8852-b0e2-4fdc-9a4d-dc044d77bb71"
      },
      "outputs": [
        {
          "name": "stdout",
          "output_type": "stream",
          "text": [
            "Don't break the flow, keep doing it, at least one hour a day!\n"
          ]
        }
      ],
      "source": [
        "print(a)"
      ]
    },
    {
      "cell_type": "code",
      "execution_count": null,
      "id": "6adadccb",
      "metadata": {
        "id": "6adadccb",
        "outputId": "455f7d74-9bf7-4038-e86a-d4227bc84b75"
      },
      "outputs": [
        {
          "name": "stdout",
          "output_type": "stream",
          "text": [
            "Never give up!\n"
          ]
        }
      ],
      "source": [
        "print(\"Never give up!\")"
      ]
    },
    {
      "cell_type": "code",
      "execution_count": null,
      "id": "a5dfe697",
      "metadata": {
        "id": "a5dfe697",
        "outputId": "5e19f580-246f-4f1a-8df6-15141b185c60"
      },
      "outputs": [
        {
          "name": "stdout",
          "output_type": "stream",
          "text": [
            "Enter your First name: Victoria\n",
            "Enter your Birthdate (e.g., May 3rd): May 3rd\n"
          ]
        }
      ],
      "source": [
        "# Accepting Input Variable from User\n",
        "name = input(\"Enter your First name: \")\n",
        "birthday = input(\"Enter your Birthdate (e.g., May 3rd): \")"
      ]
    },
    {
      "cell_type": "code",
      "execution_count": null,
      "id": "8de88785",
      "metadata": {
        "id": "8de88785",
        "outputId": "e8707762-b407-4760-a8e7-0f3fc4211578"
      },
      "outputs": [
        {
          "name": "stdout",
          "output_type": "stream",
          "text": [
            "Victoria's birthday is May 3rd.\n"
          ]
        }
      ],
      "source": [
        "print(\"{}'s birthday is {}.\".format(name,birthday))"
      ]
    },
    {
      "cell_type": "code",
      "execution_count": null,
      "id": "8a867c9c",
      "metadata": {
        "id": "8a867c9c",
        "outputId": "288afe86-bcd1-4abc-e110-a3b337d31b43"
      },
      "outputs": [
        {
          "name": "stdout",
          "output_type": "stream",
          "text": [
            "Victoria's birthday is May 3rd.\n"
          ]
        }
      ],
      "source": [
        "print(name + \"'s birthday is \" + birthday + \".\")"
      ]
    },
    {
      "cell_type": "code",
      "execution_count": null,
      "id": "022260b7",
      "metadata": {
        "id": "022260b7"
      },
      "outputs": [],
      "source": [
        "age = 23"
      ]
    },
    {
      "cell_type": "code",
      "execution_count": null,
      "id": "31108040",
      "metadata": {
        "id": "31108040",
        "outputId": "23e26499-43f9-43e2-bbb7-5a41785a642c"
      },
      "outputs": [
        {
          "name": "stdout",
          "output_type": "stream",
          "text": [
            "23\n"
          ]
        }
      ],
      "source": [
        "print(age)"
      ]
    },
    {
      "cell_type": "code",
      "execution_count": null,
      "id": "23c7eb9d",
      "metadata": {
        "id": "23c7eb9d"
      },
      "outputs": [],
      "source": [
        "occupation = \"Intern\"   # Remember to always use quotes for text"
      ]
    },
    {
      "cell_type": "code",
      "execution_count": null,
      "id": "9e6f98d4",
      "metadata": {
        "id": "9e6f98d4",
        "outputId": "c7d135cc-4a5b-4573-a3b3-596cb7d5acb6"
      },
      "outputs": [
        {
          "name": "stdout",
          "output_type": "stream",
          "text": [
            "Intern\n"
          ]
        }
      ],
      "source": [
        "print(occupation)"
      ]
    },
    {
      "cell_type": "markdown",
      "id": "8f56fc92",
      "metadata": {
        "id": "8f56fc92"
      },
      "source": [
        "### Lists"
      ]
    },
    {
      "cell_type": "code",
      "execution_count": null,
      "id": "c91e6c1b",
      "metadata": {
        "id": "c91e6c1b",
        "outputId": "a49ac2fe-2487-4580-d62f-ef4f9367a682"
      },
      "outputs": [
        {
          "data": {
            "text/plain": [
              "[7, 8, 9, 10]"
            ]
          },
          "execution_count": 34,
          "metadata": {},
          "output_type": "execute_result"
        }
      ],
      "source": [
        "[7,8,9,10]"
      ]
    },
    {
      "cell_type": "code",
      "execution_count": null,
      "id": "f2f64ec6",
      "metadata": {
        "id": "f2f64ec6"
      },
      "outputs": [],
      "source": [
        "x = [7,8,9,10]"
      ]
    },
    {
      "cell_type": "code",
      "execution_count": null,
      "id": "61591bd1",
      "metadata": {
        "id": "61591bd1",
        "outputId": "425ec923-859d-4f88-f62a-f7e0f38cf121"
      },
      "outputs": [
        {
          "name": "stdout",
          "output_type": "stream",
          "text": [
            "['apple', 'cucumber', 'pineapple', 'grapes', 'lemon']\n"
          ]
        }
      ],
      "source": [
        "new_list = [\"apple\", \"cucumber\", \"pineapple\", \"grapes\", \"lemon\"] # Again, you use quotes when dealing with strings\n",
        "print(new_list)"
      ]
    },
    {
      "cell_type": "code",
      "execution_count": null,
      "id": "24517188",
      "metadata": {
        "id": "24517188"
      },
      "outputs": [],
      "source": [
        "# list of list\n",
        "y = [\"apple\", 1, 2, ]"
      ]
    },
    {
      "cell_type": "code",
      "execution_count": null,
      "id": "55d228d9",
      "metadata": {
        "id": "55d228d9"
      },
      "outputs": [],
      "source": []
    }
  ],
  "metadata": {
    "kernelspec": {
      "display_name": "Python 3 (ipykernel)",
      "language": "python",
      "name": "python3"
    },
    "language_info": {
      "codemirror_mode": {
        "name": "ipython",
        "version": 3
      },
      "file_extension": ".py",
      "mimetype": "text/x-python",
      "name": "python",
      "nbconvert_exporter": "python",
      "pygments_lexer": "ipython3",
      "version": "3.9.13"
    },
    "colab": {
      "provenance": [],
      "include_colab_link": true
    }
  },
  "nbformat": 4,
  "nbformat_minor": 5
}