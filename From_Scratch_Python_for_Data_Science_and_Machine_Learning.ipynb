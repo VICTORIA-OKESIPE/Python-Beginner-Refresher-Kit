{
  "cells": [
    {
      "cell_type": "markdown",
      "metadata": {
        "id": "view-in-github",
        "colab_type": "text"
      },
      "source": [
        "<a href=\"https://colab.research.google.com/github/VICTORIA-OKESIPE/Python-Beginner-Refresher-Kit/blob/main/From_Scratch_Python_for_Data_Science_and_Machine_Learning.ipynb\" target=\"_parent\"><img src=\"https://colab.research.google.com/assets/colab-badge.svg\" alt=\"Open In Colab\"/></a>"
      ]
    },
    {
      "cell_type": "markdown",
      "id": "9108a8a7",
      "metadata": {
        "id": "9108a8a7"
      },
      "source": [
        "# Data Types"
      ]
    },
    {
      "cell_type": "markdown",
      "id": "9563073a",
      "metadata": {
        "id": "9563073a"
      },
      "source": [
        "### Numbers"
      ]
    },
    {
      "cell_type": "code",
      "execution_count": null,
      "id": "8fb2e27d",
      "metadata": {
        "id": "8fb2e27d",
        "outputId": "53c9c698-6991-4c73-b349-4bc36bc8495f",
        "colab": {
          "base_uri": "https://localhost:8080/"
        }
      },
      "outputs": [
        {
          "output_type": "execute_result",
          "data": {
            "text/plain": [
              "5"
            ]
          },
          "metadata": {},
          "execution_count": 1
        }
      ],
      "source": [
        "# Addition\n",
        "2 + 3"
      ]
    },
    {
      "cell_type": "code",
      "execution_count": null,
      "id": "94949a28",
      "metadata": {
        "id": "94949a28",
        "outputId": "906e45c4-9492-4e04-c7ab-725ef4e35e41",
        "colab": {
          "base_uri": "https://localhost:8080/"
        }
      },
      "outputs": [
        {
          "output_type": "execute_result",
          "data": {
            "text/plain": [
              "3"
            ]
          },
          "metadata": {},
          "execution_count": 2
        }
      ],
      "source": [
        "# Subtraction\n",
        "10 - 7"
      ]
    },
    {
      "cell_type": "code",
      "execution_count": null,
      "id": "d342f052",
      "metadata": {
        "id": "d342f052",
        "outputId": "a30f227b-1b14-4043-9190-b0b0d598cbd0",
        "colab": {
          "base_uri": "https://localhost:8080/"
        }
      },
      "outputs": [
        {
          "output_type": "execute_result",
          "data": {
            "text/plain": [
              "5"
            ]
          },
          "metadata": {},
          "execution_count": 3
        }
      ],
      "source": [
        "# Division (return quotient)\n",
        "15 // 3"
      ]
    },
    {
      "cell_type": "code",
      "execution_count": null,
      "id": "c45f93a4",
      "metadata": {
        "id": "c45f93a4",
        "outputId": "3739647d-3c14-4282-d8b2-ca8c573f817b",
        "colab": {
          "base_uri": "https://localhost:8080/"
        }
      },
      "outputs": [
        {
          "output_type": "execute_result",
          "data": {
            "text/plain": [
              "7"
            ]
          },
          "metadata": {},
          "execution_count": 4
        }
      ],
      "source": [
        "# Division (return quotient)\n",
        "15 // 2"
      ]
    },
    {
      "cell_type": "code",
      "execution_count": null,
      "id": "1cd279f7",
      "metadata": {
        "id": "1cd279f7",
        "outputId": "86228efd-fa61-4517-ec09-a17a8eb8b482",
        "colab": {
          "base_uri": "https://localhost:8080/"
        }
      },
      "outputs": [
        {
          "output_type": "execute_result",
          "data": {
            "text/plain": [
              "1"
            ]
          },
          "metadata": {},
          "execution_count": 5
        }
      ],
      "source": [
        "# Division (return remainder)\n",
        "15 % 2"
      ]
    },
    {
      "cell_type": "code",
      "execution_count": null,
      "id": "a9cdd8e9",
      "metadata": {
        "id": "a9cdd8e9",
        "outputId": "f2384252-ab7f-46ba-fd27-968eafacc147",
        "colab": {
          "base_uri": "https://localhost:8080/"
        }
      },
      "outputs": [
        {
          "output_type": "execute_result",
          "data": {
            "text/plain": [
              "15"
            ]
          },
          "metadata": {},
          "execution_count": 6
        }
      ],
      "source": [
        "# Multiplication\n",
        "3 * 5"
      ]
    },
    {
      "cell_type": "code",
      "execution_count": null,
      "id": "27ff88f2",
      "metadata": {
        "id": "27ff88f2",
        "outputId": "09ce187d-a648-47f2-8b13-661ccdaf8eaf",
        "colab": {
          "base_uri": "https://localhost:8080/"
        }
      },
      "outputs": [
        {
          "output_type": "execute_result",
          "data": {
            "text/plain": [
              "25"
            ]
          },
          "metadata": {},
          "execution_count": 7
        }
      ],
      "source": [
        "# Exponents\n",
        "5**2"
      ]
    },
    {
      "cell_type": "markdown",
      "id": "3028c572",
      "metadata": {
        "id": "3028c572"
      },
      "source": [
        "### Variables"
      ]
    },
    {
      "cell_type": "code",
      "execution_count": null,
      "id": "50acd856",
      "metadata": {
        "id": "50acd856"
      },
      "outputs": [],
      "source": [
        "no_of_icecream_cones = 2 #(Variable naming type = Snake type)\n",
        "NoOfIcecreamCones = 2    #(Variable naming type = Pascal type)\n",
        "noOfIcecreamCones = 2    #(Variable naming type = Carmel type)"
      ]
    },
    {
      "cell_type": "code",
      "execution_count": null,
      "id": "168adf9b",
      "metadata": {
        "id": "168adf9b"
      },
      "outputs": [],
      "source": [
        "a = 5\n",
        "b = 10\n",
        "c = 15\n",
        "d = a + b"
      ]
    },
    {
      "cell_type": "code",
      "execution_count": null,
      "id": "5986b37b",
      "metadata": {
        "id": "5986b37b",
        "outputId": "8144b490-4c2e-42dd-f1c7-9cff3495c61a",
        "colab": {
          "base_uri": "https://localhost:8080/"
        }
      },
      "outputs": [
        {
          "output_type": "execute_result",
          "data": {
            "text/plain": [
              "15"
            ]
          },
          "metadata": {},
          "execution_count": 10
        }
      ],
      "source": [
        "d"
      ]
    },
    {
      "cell_type": "markdown",
      "id": "8ccf20af",
      "metadata": {
        "id": "8ccf20af"
      },
      "source": [
        "### Strings"
      ]
    },
    {
      "cell_type": "code",
      "execution_count": null,
      "id": "f051cdf5",
      "metadata": {
        "id": "f051cdf5"
      },
      "outputs": [],
      "source": [
        "# Strings are like sentences. You always need to quote them. You can single quote\n",
        "# or double quote them"
      ]
    },
    {
      "cell_type": "code",
      "execution_count": null,
      "id": "d26b5697",
      "metadata": {
        "id": "d26b5697"
      },
      "outputs": [],
      "source": [
        "text1 = \"I am currently in Canada for an Internship Program\""
      ]
    },
    {
      "cell_type": "code",
      "execution_count": null,
      "id": "2761654e",
      "metadata": {
        "id": "2761654e",
        "outputId": "0ddc6cd2-c6f7-40c3-ade9-c1dc152cc083",
        "colab": {
          "base_uri": "https://localhost:8080/",
          "height": 36
        }
      },
      "outputs": [
        {
          "output_type": "execute_result",
          "data": {
            "text/plain": [
              "'I am currently in Canada for an Internship Program'"
            ],
            "application/vnd.google.colaboratory.intrinsic+json": {
              "type": "string"
            }
          },
          "metadata": {},
          "execution_count": 13
        }
      ],
      "source": [
        "text1"
      ]
    },
    {
      "cell_type": "code",
      "execution_count": null,
      "id": "c9af1456",
      "metadata": {
        "id": "c9af1456"
      },
      "outputs": [],
      "source": [
        "text2 = 'You can also use single quote'"
      ]
    },
    {
      "cell_type": "code",
      "execution_count": null,
      "id": "e79b6a9b",
      "metadata": {
        "id": "e79b6a9b",
        "outputId": "48072088-0b7f-446e-9344-5a14b1aba006",
        "colab": {
          "base_uri": "https://localhost:8080/",
          "height": 36
        }
      },
      "outputs": [
        {
          "output_type": "execute_result",
          "data": {
            "text/plain": [
              "'You can also use single quote'"
            ],
            "application/vnd.google.colaboratory.intrinsic+json": {
              "type": "string"
            }
          },
          "metadata": {},
          "execution_count": 15
        }
      ],
      "source": [
        "text2"
      ]
    },
    {
      "cell_type": "code",
      "execution_count": null,
      "id": "64234994",
      "metadata": {
        "id": "64234994"
      },
      "outputs": [],
      "source": [
        "# same result"
      ]
    },
    {
      "cell_type": "markdown",
      "id": "a417b401",
      "metadata": {
        "id": "a417b401"
      },
      "source": [
        "### Printing"
      ]
    },
    {
      "cell_type": "code",
      "execution_count": null,
      "id": "11a40f8e",
      "metadata": {
        "id": "11a40f8e"
      },
      "outputs": [],
      "source": [
        "a = \"Don't break the flow, keep doing it, at least one hour a day!\" # I prefer double quotes ...hahahaha, your choice"
      ]
    },
    {
      "cell_type": "code",
      "execution_count": null,
      "id": "5310e142",
      "metadata": {
        "id": "5310e142",
        "outputId": "6f37385a-08e5-477b-af56-28f9e0d2485f",
        "colab": {
          "base_uri": "https://localhost:8080/"
        }
      },
      "outputs": [
        {
          "output_type": "stream",
          "name": "stdout",
          "text": [
            "Don't break the flow, keep doing it, at least one hour a day!\n"
          ]
        }
      ],
      "source": [
        "print(a)"
      ]
    },
    {
      "cell_type": "code",
      "execution_count": null,
      "id": "6adadccb",
      "metadata": {
        "id": "6adadccb",
        "outputId": "97236507-6ed2-4d21-e215-a29c0b015452",
        "colab": {
          "base_uri": "https://localhost:8080/"
        }
      },
      "outputs": [
        {
          "output_type": "stream",
          "name": "stdout",
          "text": [
            "Never give up!\n"
          ]
        }
      ],
      "source": [
        "print(\"Never give up!\")"
      ]
    },
    {
      "cell_type": "code",
      "execution_count": null,
      "id": "a5dfe697",
      "metadata": {
        "id": "a5dfe697",
        "outputId": "58ae5d46-baef-42fd-eacd-bd4cf7915b0a",
        "colab": {
          "base_uri": "https://localhost:8080/"
        }
      },
      "outputs": [
        {
          "name": "stdout",
          "output_type": "stream",
          "text": [
            "Enter your First name: Victoria\n",
            "Enter your Birthdate (e.g., May 3rd): May 3rd\n"
          ]
        }
      ],
      "source": [
        "# Accepting Input Variable from User\n",
        "name = input(\"Enter your First name: \")\n",
        "birthday = input(\"Enter your Birthdate (e.g., May 3rd): \")"
      ]
    },
    {
      "cell_type": "code",
      "execution_count": null,
      "id": "8de88785",
      "metadata": {
        "id": "8de88785",
        "outputId": "9e799e61-a355-4825-d64d-e8161338200a",
        "colab": {
          "base_uri": "https://localhost:8080/"
        }
      },
      "outputs": [
        {
          "output_type": "stream",
          "name": "stdout",
          "text": [
            "Victoria's birthday is May 3rd.\n"
          ]
        }
      ],
      "source": [
        "print(\"{}'s birthday is {}.\".format(name,birthday))"
      ]
    },
    {
      "cell_type": "code",
      "execution_count": null,
      "id": "8a867c9c",
      "metadata": {
        "id": "8a867c9c",
        "outputId": "3707b028-2cc6-4365-9735-fda30ad37008",
        "colab": {
          "base_uri": "https://localhost:8080/"
        }
      },
      "outputs": [
        {
          "output_type": "stream",
          "name": "stdout",
          "text": [
            "Victoria's birthday is May 3rd.\n"
          ]
        }
      ],
      "source": [
        "print(name + \"'s birthday is \" + birthday + \".\")"
      ]
    },
    {
      "cell_type": "code",
      "execution_count": null,
      "id": "022260b7",
      "metadata": {
        "id": "022260b7"
      },
      "outputs": [],
      "source": [
        "age = 23"
      ]
    },
    {
      "cell_type": "code",
      "execution_count": null,
      "id": "31108040",
      "metadata": {
        "id": "31108040",
        "outputId": "8f2b91e6-db31-4a8d-c543-eca2747f62b1",
        "colab": {
          "base_uri": "https://localhost:8080/"
        }
      },
      "outputs": [
        {
          "output_type": "stream",
          "name": "stdout",
          "text": [
            "23\n"
          ]
        }
      ],
      "source": [
        "print(age)"
      ]
    },
    {
      "cell_type": "code",
      "execution_count": null,
      "id": "23c7eb9d",
      "metadata": {
        "id": "23c7eb9d"
      },
      "outputs": [],
      "source": [
        "occupation = \"Intern\"   # Remember to always use quotes for text"
      ]
    },
    {
      "cell_type": "code",
      "execution_count": null,
      "id": "9e6f98d4",
      "metadata": {
        "id": "9e6f98d4",
        "outputId": "f719b393-0b7a-44f0-e4ab-29ba38689e95",
        "colab": {
          "base_uri": "https://localhost:8080/"
        }
      },
      "outputs": [
        {
          "output_type": "stream",
          "name": "stdout",
          "text": [
            "Intern\n"
          ]
        }
      ],
      "source": [
        "print(occupation)"
      ]
    },
    {
      "cell_type": "markdown",
      "id": "8f56fc92",
      "metadata": {
        "id": "8f56fc92"
      },
      "source": [
        "### Lists"
      ]
    },
    {
      "cell_type": "code",
      "execution_count": null,
      "id": "c91e6c1b",
      "metadata": {
        "id": "c91e6c1b",
        "outputId": "dbdfd7f0-5460-4da7-c5d8-7743133ae0f5",
        "colab": {
          "base_uri": "https://localhost:8080/"
        }
      },
      "outputs": [
        {
          "output_type": "execute_result",
          "data": {
            "text/plain": [
              "[7, 8, 9, 10]"
            ]
          },
          "metadata": {},
          "execution_count": 27
        }
      ],
      "source": [
        "[7,8,9,10]"
      ]
    },
    {
      "cell_type": "code",
      "execution_count": null,
      "id": "f2f64ec6",
      "metadata": {
        "id": "f2f64ec6"
      },
      "outputs": [],
      "source": [
        "x = [7,8,9,10]"
      ]
    },
    {
      "cell_type": "code",
      "execution_count": null,
      "id": "61591bd1",
      "metadata": {
        "id": "61591bd1",
        "outputId": "b81bb48f-e4e0-4809-c010-da2c47ab8af0",
        "colab": {
          "base_uri": "https://localhost:8080/"
        }
      },
      "outputs": [
        {
          "output_type": "stream",
          "name": "stdout",
          "text": [
            "['apple', 'cucumber', 'pineapple', 'grapes', 'lemon']\n"
          ]
        }
      ],
      "source": [
        "new_list = [\"apple\", \"cucumber\", \"pineapple\", \"grapes\", \"lemon\"] # Again, you use quotes when dealing with strings\n",
        "print(new_list)"
      ]
    },
    {
      "cell_type": "code",
      "execution_count": null,
      "id": "24517188",
      "metadata": {
        "id": "24517188"
      },
      "outputs": [],
      "source": [
        "# list of list\n",
        "y = [\"apple\", 1, 2, ]"
      ]
    },
    {
      "cell_type": "code",
      "execution_count": null,
      "id": "55d228d9",
      "metadata": {
        "id": "55d228d9"
      },
      "outputs": [],
      "source": [
        "nested = [1,2,3,[4,5,['target']]]"
      ]
    },
    {
      "cell_type": "code",
      "source": [
        "nested[3]"
      ],
      "metadata": {
        "colab": {
          "base_uri": "https://localhost:8080/"
        },
        "id": "Ah_BDzyUq4JJ",
        "outputId": "b3aa2c06-84b2-4225-a36a-201c184b33a2"
      },
      "id": "Ah_BDzyUq4JJ",
      "execution_count": null,
      "outputs": [
        {
          "output_type": "execute_result",
          "data": {
            "text/plain": [
              "[4, 5, ['target']]"
            ]
          },
          "metadata": {},
          "execution_count": 32
        }
      ]
    },
    {
      "cell_type": "code",
      "source": [
        "nested[3][2]"
      ],
      "metadata": {
        "colab": {
          "base_uri": "https://localhost:8080/"
        },
        "id": "oJgJfRC6q6Jq",
        "outputId": "71ee1803-6f13-4a0b-8567-0f802bbe9314"
      },
      "id": "oJgJfRC6q6Jq",
      "execution_count": null,
      "outputs": [
        {
          "output_type": "execute_result",
          "data": {
            "text/plain": [
              "['target']"
            ]
          },
          "metadata": {},
          "execution_count": 33
        }
      ]
    },
    {
      "cell_type": "code",
      "source": [
        "nested[3][2][0]"
      ],
      "metadata": {
        "colab": {
          "base_uri": "https://localhost:8080/",
          "height": 36
        },
        "id": "TeMEmA5WrHwE",
        "outputId": "23eae007-7feb-4488-e910-f1b70678221c"
      },
      "id": "TeMEmA5WrHwE",
      "execution_count": null,
      "outputs": [
        {
          "output_type": "execute_result",
          "data": {
            "text/plain": [
              "'target'"
            ],
            "application/vnd.google.colaboratory.intrinsic+json": {
              "type": "string"
            }
          },
          "metadata": {},
          "execution_count": 34
        }
      ]
    },
    {
      "cell_type": "markdown",
      "source": [
        "### Dictionaries"
      ],
      "metadata": {
        "id": "O06KA2_crUi4"
      },
      "id": "O06KA2_crUi4"
    },
    {
      "cell_type": "code",
      "source": [
        "# dictionary - key to value pair\n",
        "x = {'key1':'item1','key2':'item2'}"
      ],
      "metadata": {
        "id": "2h2jsFEmrMvp"
      },
      "id": "2h2jsFEmrMvp",
      "execution_count": null,
      "outputs": []
    },
    {
      "cell_type": "code",
      "source": [
        "x['key1']"
      ],
      "metadata": {
        "colab": {
          "base_uri": "https://localhost:8080/",
          "height": 36
        },
        "id": "2zN84F7zrjHc",
        "outputId": "2ead2031-5c8b-4d2d-a6e1-57344119b92d"
      },
      "id": "2zN84F7zrjHc",
      "execution_count": null,
      "outputs": [
        {
          "output_type": "execute_result",
          "data": {
            "text/plain": [
              "'item1'"
            ],
            "application/vnd.google.colaboratory.intrinsic+json": {
              "type": "string"
            }
          },
          "metadata": {},
          "execution_count": 36
        }
      ]
    },
    {
      "cell_type": "code",
      "source": [
        "y1={'d1':[1,2,3]}"
      ],
      "metadata": {
        "id": "vXEgD1YPrlyh"
      },
      "id": "vXEgD1YPrlyh",
      "execution_count": null,
      "outputs": []
    },
    {
      "cell_type": "code",
      "source": [
        "y1['d1'][1]"
      ],
      "metadata": {
        "colab": {
          "base_uri": "https://localhost:8080/"
        },
        "id": "3RHkHpTNrqgT",
        "outputId": "2c7a136b-b508-439f-fea5-a2c3f5354b54"
      },
      "id": "3RHkHpTNrqgT",
      "execution_count": null,
      "outputs": [
        {
          "output_type": "execute_result",
          "data": {
            "text/plain": [
              "2"
            ]
          },
          "metadata": {},
          "execution_count": 43
        }
      ]
    },
    {
      "cell_type": "markdown",
      "source": [
        "### Booleans"
      ],
      "metadata": {
        "id": "K1hL0yR7sC_M"
      },
      "id": "K1hL0yR7sC_M"
    },
    {
      "cell_type": "code",
      "source": [
        "2 > 3"
      ],
      "metadata": {
        "colab": {
          "base_uri": "https://localhost:8080/"
        },
        "id": "bVIomrM4ry-E",
        "outputId": "bc4901dd-35d9-465b-a2f3-16e657632a75"
      },
      "id": "bVIomrM4ry-E",
      "execution_count": null,
      "outputs": [
        {
          "output_type": "execute_result",
          "data": {
            "text/plain": [
              "False"
            ]
          },
          "metadata": {},
          "execution_count": 44
        }
      ]
    },
    {
      "cell_type": "code",
      "source": [
        "3 > 2"
      ],
      "metadata": {
        "colab": {
          "base_uri": "https://localhost:8080/"
        },
        "id": "KKzQhQhhsJRQ",
        "outputId": "0a748cf4-0e41-404b-e21a-7d5b9e28b749"
      },
      "id": "KKzQhQhhsJRQ",
      "execution_count": null,
      "outputs": [
        {
          "output_type": "execute_result",
          "data": {
            "text/plain": [
              "True"
            ]
          },
          "metadata": {},
          "execution_count": 45
        }
      ]
    },
    {
      "cell_type": "code",
      "source": [
        "3 == 3"
      ],
      "metadata": {
        "colab": {
          "base_uri": "https://localhost:8080/"
        },
        "id": "mXfFfPytsLWc",
        "outputId": "8f1a862a-b89f-41ea-cbe9-5da770702b68"
      },
      "id": "mXfFfPytsLWc",
      "execution_count": null,
      "outputs": [
        {
          "output_type": "execute_result",
          "data": {
            "text/plain": [
              "True"
            ]
          },
          "metadata": {},
          "execution_count": 47
        }
      ]
    },
    {
      "cell_type": "code",
      "source": [
        "3 != 3"
      ],
      "metadata": {
        "colab": {
          "base_uri": "https://localhost:8080/"
        },
        "id": "MK-DdYHGsMbE",
        "outputId": "e3d00477-798b-4a00-f0ac-0bee7d5dcc58"
      },
      "id": "MK-DdYHGsMbE",
      "execution_count": null,
      "outputs": [
        {
          "output_type": "execute_result",
          "data": {
            "text/plain": [
              "False"
            ]
          },
          "metadata": {},
          "execution_count": 49
        }
      ]
    },
    {
      "cell_type": "code",
      "source": [
        "True"
      ],
      "metadata": {
        "colab": {
          "base_uri": "https://localhost:8080/"
        },
        "id": "dgOoewIusQl9",
        "outputId": "512f1fa0-843c-41f9-c115-9f645cf25726"
      },
      "id": "dgOoewIusQl9",
      "execution_count": null,
      "outputs": [
        {
          "output_type": "execute_result",
          "data": {
            "text/plain": [
              "True"
            ]
          },
          "metadata": {},
          "execution_count": 50
        }
      ]
    },
    {
      "cell_type": "code",
      "source": [
        "False"
      ],
      "metadata": {
        "colab": {
          "base_uri": "https://localhost:8080/"
        },
        "id": "7XvmPqAhsYak",
        "outputId": "52330a70-4b2a-4923-e5d2-59e10d2b8fe8"
      },
      "id": "7XvmPqAhsYak",
      "execution_count": null,
      "outputs": [
        {
          "output_type": "execute_result",
          "data": {
            "text/plain": [
              "False"
            ]
          },
          "metadata": {},
          "execution_count": 51
        }
      ]
    },
    {
      "cell_type": "markdown",
      "source": [
        "### Tuples"
      ],
      "metadata": {
        "id": "4LEjl8lfsait"
      },
      "id": "4LEjl8lfsait"
    },
    {
      "cell_type": "code",
      "source": [
        "t = (1,2,3)"
      ],
      "metadata": {
        "id": "aBBIyJ5rsZf2"
      },
      "id": "aBBIyJ5rsZf2",
      "execution_count": null,
      "outputs": []
    },
    {
      "cell_type": "code",
      "source": [
        "t[0]"
      ],
      "metadata": {
        "colab": {
          "base_uri": "https://localhost:8080/"
        },
        "id": "kP2VV6eVshDU",
        "outputId": "b37ef8f2-bd99-465f-ff7f-90ab6fd9e430"
      },
      "id": "kP2VV6eVshDU",
      "execution_count": null,
      "outputs": [
        {
          "output_type": "execute_result",
          "data": {
            "text/plain": [
              "1"
            ]
          },
          "metadata": {},
          "execution_count": 53
        }
      ]
    },
    {
      "cell_type": "code",
      "source": [
        "t[0] = 1  #tuples won't work when you try to assign values to them"
      ],
      "metadata": {
        "colab": {
          "base_uri": "https://localhost:8080/",
          "height": 181
        },
        "id": "xDB9gVtVswcD",
        "outputId": "457bd280-3192-42c1-bf73-b2139b6e2771"
      },
      "id": "xDB9gVtVswcD",
      "execution_count": null,
      "outputs": [
        {
          "output_type": "error",
          "ename": "TypeError",
          "evalue": "ignored",
          "traceback": [
            "\u001b[0;31m---------------------------------------------------------------------------\u001b[0m",
            "\u001b[0;31mTypeError\u001b[0m                                 Traceback (most recent call last)",
            "\u001b[0;32m<ipython-input-55-8f112d1a6106>\u001b[0m in \u001b[0;36m<cell line: 1>\u001b[0;34m()\u001b[0m\n\u001b[0;32m----> 1\u001b[0;31m \u001b[0mt\u001b[0m\u001b[0;34m[\u001b[0m\u001b[0;36m0\u001b[0m\u001b[0;34m]\u001b[0m \u001b[0;34m=\u001b[0m \u001b[0;36m1\u001b[0m  \u001b[0;31m#tuples won't work when you try to assign values to them\u001b[0m\u001b[0;34m\u001b[0m\u001b[0;34m\u001b[0m\u001b[0m\n\u001b[0m",
            "\u001b[0;31mTypeError\u001b[0m: 'tuple' object does not support item assignment"
          ]
        }
      ]
    },
    {
      "cell_type": "markdown",
      "source": [
        "### Sets"
      ],
      "metadata": {
        "id": "z-Wdm-xrtBf7"
      },
      "id": "z-Wdm-xrtBf7"
    },
    {
      "cell_type": "code",
      "source": [
        "{1,2,3}"
      ],
      "metadata": {
        "colab": {
          "base_uri": "https://localhost:8080/"
        },
        "id": "uillYfp0s0XI",
        "outputId": "953ea1f3-30c0-4dd4-ad08-919c88e52d7c"
      },
      "id": "uillYfp0s0XI",
      "execution_count": null,
      "outputs": [
        {
          "output_type": "execute_result",
          "data": {
            "text/plain": [
              "{1, 2, 3}"
            ]
          },
          "metadata": {},
          "execution_count": 56
        }
      ]
    },
    {
      "cell_type": "code",
      "source": [
        "a = {1,2,3}\n",
        "a.add(4)\n",
        "a"
      ],
      "metadata": {
        "colab": {
          "base_uri": "https://localhost:8080/"
        },
        "id": "apu9SXe-tFmn",
        "outputId": "ac9d47e3-6096-4f5c-b4ed-84fc05a3e979"
      },
      "id": "apu9SXe-tFmn",
      "execution_count": null,
      "outputs": [
        {
          "output_type": "execute_result",
          "data": {
            "text/plain": [
              "{1, 2, 3, 4}"
            ]
          },
          "metadata": {},
          "execution_count": 58
        }
      ]
    },
    {
      "cell_type": "markdown",
      "source": [
        "### Comparison Operators"
      ],
      "metadata": {
        "id": "TTTDwXp4tbXf"
      },
      "id": "TTTDwXp4tbXf"
    },
    {
      "cell_type": "code",
      "source": [
        "1 > 2"
      ],
      "metadata": {
        "colab": {
          "base_uri": "https://localhost:8080/"
        },
        "id": "uJTLhJehtLwQ",
        "outputId": "65f00ea6-4a4e-492c-e5d9-ecfc74cdeab3"
      },
      "id": "uJTLhJehtLwQ",
      "execution_count": null,
      "outputs": [
        {
          "output_type": "execute_result",
          "data": {
            "text/plain": [
              "False"
            ]
          },
          "metadata": {},
          "execution_count": 59
        }
      ]
    },
    {
      "cell_type": "code",
      "source": [
        "1 < 2"
      ],
      "metadata": {
        "colab": {
          "base_uri": "https://localhost:8080/"
        },
        "id": "R_fnp4iCtgWY",
        "outputId": "a3080c8c-921a-4469-b3ef-719f1774ae9b"
      },
      "id": "R_fnp4iCtgWY",
      "execution_count": null,
      "outputs": [
        {
          "output_type": "execute_result",
          "data": {
            "text/plain": [
              "True"
            ]
          },
          "metadata": {},
          "execution_count": 60
        }
      ]
    },
    {
      "cell_type": "code",
      "source": [
        "1 >= 2"
      ],
      "metadata": {
        "colab": {
          "base_uri": "https://localhost:8080/"
        },
        "id": "M2eZqeJmthqK",
        "outputId": "3f0d99a8-5062-464e-9d3b-61b13fefbd0b"
      },
      "id": "M2eZqeJmthqK",
      "execution_count": null,
      "outputs": [
        {
          "output_type": "execute_result",
          "data": {
            "text/plain": [
              "False"
            ]
          },
          "metadata": {},
          "execution_count": 61
        }
      ]
    },
    {
      "cell_type": "code",
      "source": [
        "1 <= 2"
      ],
      "metadata": {
        "colab": {
          "base_uri": "https://localhost:8080/"
        },
        "id": "xagfnHOati-L",
        "outputId": "e2d41844-9ba1-4b00-c766-fecccaf3de9a"
      },
      "id": "xagfnHOati-L",
      "execution_count": null,
      "outputs": [
        {
          "output_type": "execute_result",
          "data": {
            "text/plain": [
              "True"
            ]
          },
          "metadata": {},
          "execution_count": 62
        }
      ]
    },
    {
      "cell_type": "code",
      "source": [
        "1 == 1"
      ],
      "metadata": {
        "colab": {
          "base_uri": "https://localhost:8080/"
        },
        "id": "9G_2l7notlmg",
        "outputId": "f8a24355-cf8d-4ec2-f679-509749a9af59"
      },
      "id": "9G_2l7notlmg",
      "execution_count": null,
      "outputs": [
        {
          "output_type": "execute_result",
          "data": {
            "text/plain": [
              "True"
            ]
          },
          "metadata": {},
          "execution_count": 63
        }
      ]
    },
    {
      "cell_type": "code",
      "source": [
        "'hi' == 'bye'"
      ],
      "metadata": {
        "colab": {
          "base_uri": "https://localhost:8080/"
        },
        "id": "MTA9dMyftsgZ",
        "outputId": "52ba6acb-ec8f-4d2e-d908-4168df4f28a2"
      },
      "id": "MTA9dMyftsgZ",
      "execution_count": null,
      "outputs": [
        {
          "output_type": "execute_result",
          "data": {
            "text/plain": [
              "False"
            ]
          },
          "metadata": {},
          "execution_count": 64
        }
      ]
    },
    {
      "cell_type": "code",
      "source": [
        "'buy' == 'bye'"
      ],
      "metadata": {
        "colab": {
          "base_uri": "https://localhost:8080/"
        },
        "id": "E8rQcZ4Itzgs",
        "outputId": "9325af7a-ec91-410b-a2d3-f329811ddd83"
      },
      "id": "E8rQcZ4Itzgs",
      "execution_count": null,
      "outputs": [
        {
          "output_type": "execute_result",
          "data": {
            "text/plain": [
              "False"
            ]
          },
          "metadata": {},
          "execution_count": 65
        }
      ]
    },
    {
      "cell_type": "code",
      "source": [
        "'buy' == 'buy'"
      ],
      "metadata": {
        "colab": {
          "base_uri": "https://localhost:8080/"
        },
        "id": "cnVj7qGet76q",
        "outputId": "0f92e1de-967b-4609-ea01-27f53dc236df"
      },
      "id": "cnVj7qGet76q",
      "execution_count": null,
      "outputs": [
        {
          "output_type": "execute_result",
          "data": {
            "text/plain": [
              "True"
            ]
          },
          "metadata": {},
          "execution_count": 67
        }
      ]
    },
    {
      "cell_type": "markdown",
      "source": [
        "### Logic Operators"
      ],
      "metadata": {
        "id": "z2OFZ2e7uTA0"
      },
      "id": "z2OFZ2e7uTA0"
    },
    {
      "cell_type": "code",
      "source": [
        "(1 > 2) and (2 < 3)"
      ],
      "metadata": {
        "colab": {
          "base_uri": "https://localhost:8080/"
        },
        "id": "_78VGo9kt-jE",
        "outputId": "e9cde50a-a799-4120-a13c-a56b1488f4b0"
      },
      "id": "_78VGo9kt-jE",
      "execution_count": null,
      "outputs": [
        {
          "output_type": "execute_result",
          "data": {
            "text/plain": [
              "False"
            ]
          },
          "metadata": {},
          "execution_count": 68
        }
      ]
    },
    {
      "cell_type": "code",
      "source": [
        "(3 > 2) and (4 > 3)"
      ],
      "metadata": {
        "colab": {
          "base_uri": "https://localhost:8080/"
        },
        "id": "643EhND9ub4f",
        "outputId": "b9aef689-dcdb-48c1-854e-a662bb0bfa8a"
      },
      "id": "643EhND9ub4f",
      "execution_count": null,
      "outputs": [
        {
          "output_type": "execute_result",
          "data": {
            "text/plain": [
              "True"
            ]
          },
          "metadata": {},
          "execution_count": 69
        }
      ]
    },
    {
      "cell_type": "code",
      "source": [
        "(1 > 2) or (2 < 3)"
      ],
      "metadata": {
        "colab": {
          "base_uri": "https://localhost:8080/"
        },
        "id": "lfR8yg7Wuhmn",
        "outputId": "2c68a1bc-0148-4b9c-ac2d-0f5b37be656b"
      },
      "id": "lfR8yg7Wuhmn",
      "execution_count": null,
      "outputs": [
        {
          "output_type": "execute_result",
          "data": {
            "text/plain": [
              "True"
            ]
          },
          "metadata": {},
          "execution_count": 70
        }
      ]
    },
    {
      "cell_type": "markdown",
      "source": [
        "### Conditional (if, elif, else) Statements"
      ],
      "metadata": {
        "id": "-Eml5Pr2uskV"
      },
      "id": "-Eml5Pr2uskV"
    },
    {
      "cell_type": "code",
      "source": [
        "if 2 < 3:\n",
        "  print(\"Yes!\")"
      ],
      "metadata": {
        "colab": {
          "base_uri": "https://localhost:8080/"
        },
        "id": "qy9BpS_Puq4P",
        "outputId": "b964bfe1-5877-4c94-967b-1e0cc9f12914"
      },
      "id": "qy9BpS_Puq4P",
      "execution_count": null,
      "outputs": [
        {
          "output_type": "stream",
          "name": "stdout",
          "text": [
            "Yes!\n"
          ]
        }
      ]
    },
    {
      "cell_type": "code",
      "source": [
        "if 3 > 4:\n",
        "  print(\"Yes!\")"
      ],
      "metadata": {
        "id": "rN0HDkehu_Cx"
      },
      "id": "rN0HDkehu_Cx",
      "execution_count": null,
      "outputs": []
    },
    {
      "cell_type": "code",
      "source": [
        "if 3 < 4:\n",
        "  print(\"first\")\n",
        "else:\n",
        "  print(\"last\")"
      ],
      "metadata": {
        "colab": {
          "base_uri": "https://localhost:8080/"
        },
        "id": "TnM7HkKUvs6O",
        "outputId": "7b74be68-b0b5-480a-989b-1cad13a601a7"
      },
      "id": "TnM7HkKUvs6O",
      "execution_count": null,
      "outputs": [
        {
          "output_type": "stream",
          "name": "stdout",
          "text": [
            "first\n"
          ]
        }
      ]
    },
    {
      "cell_type": "code",
      "source": [
        "if 3 > 4:\n",
        "  print(\"first\")\n",
        "else:\n",
        "  print(\"last\")"
      ],
      "metadata": {
        "colab": {
          "base_uri": "https://localhost:8080/"
        },
        "id": "4FCLawl5vMc8",
        "outputId": "135fd869-25c9-478b-874f-7fd68c6e7511"
      },
      "id": "4FCLawl5vMc8",
      "execution_count": null,
      "outputs": [
        {
          "output_type": "stream",
          "name": "stdout",
          "text": [
            "last\n"
          ]
        }
      ]
    },
    {
      "cell_type": "code",
      "source": [
        "if 1 == 2:\n",
        "    print('first')\n",
        "elif 3 == 3:\n",
        "    print('middle')\n",
        "else:\n",
        "    print('Last')"
      ],
      "metadata": {
        "colab": {
          "base_uri": "https://localhost:8080/"
        },
        "id": "gHbGz_HxvYdq",
        "outputId": "f0d34445-00ce-4c64-da19-8e23326c4de0"
      },
      "id": "gHbGz_HxvYdq",
      "execution_count": null,
      "outputs": [
        {
          "output_type": "stream",
          "name": "stdout",
          "text": [
            "middle\n"
          ]
        }
      ]
    },
    {
      "cell_type": "markdown",
      "source": [
        "### for Loops"
      ],
      "metadata": {
        "id": "ppp4X2k4wLK-"
      },
      "id": "ppp4X2k4wLK-"
    },
    {
      "cell_type": "code",
      "source": [
        "seq = [1,2,3,4,5]"
      ],
      "metadata": {
        "id": "dPK6i8TEwJxz"
      },
      "id": "dPK6i8TEwJxz",
      "execution_count": null,
      "outputs": []
    },
    {
      "cell_type": "code",
      "source": [
        "for item in seq:\n",
        "  print(item)"
      ],
      "metadata": {
        "colab": {
          "base_uri": "https://localhost:8080/"
        },
        "id": "OFZ2viC3wScZ",
        "outputId": "92ccf2d7-34ba-47f9-c04d-f195e906d269"
      },
      "id": "OFZ2viC3wScZ",
      "execution_count": null,
      "outputs": [
        {
          "output_type": "stream",
          "name": "stdout",
          "text": [
            "1\n",
            "2\n",
            "3\n",
            "4\n",
            "5\n"
          ]
        }
      ]
    },
    {
      "cell_type": "code",
      "source": [
        "for item in seq:\n",
        "  print('Yes')"
      ],
      "metadata": {
        "colab": {
          "base_uri": "https://localhost:8080/"
        },
        "id": "UXx_fj9_wbEK",
        "outputId": "8688cad2-c291-44af-dae6-ef3078340ff7"
      },
      "id": "UXx_fj9_wbEK",
      "execution_count": null,
      "outputs": [
        {
          "output_type": "stream",
          "name": "stdout",
          "text": [
            "Yes\n",
            "Yes\n",
            "Yes\n",
            "Yes\n",
            "Yes\n"
          ]
        }
      ]
    },
    {
      "cell_type": "code",
      "source": [
        "for this in seq:\n",
        "  print(this+this)"
      ],
      "metadata": {
        "colab": {
          "base_uri": "https://localhost:8080/"
        },
        "id": "SvpcCqTIwoWO",
        "outputId": "26293f54-c57f-494a-972b-8bd91d87efa2"
      },
      "id": "SvpcCqTIwoWO",
      "execution_count": null,
      "outputs": [
        {
          "output_type": "stream",
          "name": "stdout",
          "text": [
            "2\n",
            "4\n",
            "6\n",
            "8\n",
            "10\n"
          ]
        }
      ]
    },
    {
      "cell_type": "markdown",
      "source": [
        "### while Loops"
      ],
      "metadata": {
        "id": "OaBd9KcJxMU5"
      },
      "id": "OaBd9KcJxMU5"
    },
    {
      "cell_type": "code",
      "source": [
        "i = 1\n",
        "while i < 5:\n",
        "  print('i is: {}'.format(i))\n",
        "  i = i+1"
      ],
      "metadata": {
        "colab": {
          "base_uri": "https://localhost:8080/"
        },
        "id": "D8i4CN_iw1Mg",
        "outputId": "f7175d65-a9de-4324-9629-c8eb08000fc6"
      },
      "id": "D8i4CN_iw1Mg",
      "execution_count": null,
      "outputs": [
        {
          "output_type": "stream",
          "name": "stdout",
          "text": [
            "i is: 1\n",
            "i is: 2\n",
            "i is: 3\n",
            "i is: 4\n"
          ]
        }
      ]
    },
    {
      "cell_type": "markdown",
      "source": [
        "### range()"
      ],
      "metadata": {
        "id": "98qfnh-DxnPN"
      },
      "id": "98qfnh-DxnPN"
    },
    {
      "cell_type": "code",
      "source": [
        "range(5)"
      ],
      "metadata": {
        "colab": {
          "base_uri": "https://localhost:8080/"
        },
        "id": "38N43NwmxiPt",
        "outputId": "90570a69-714e-40bd-a7be-3aff47862c95"
      },
      "id": "38N43NwmxiPt",
      "execution_count": null,
      "outputs": [
        {
          "output_type": "execute_result",
          "data": {
            "text/plain": [
              "range(0, 5)"
            ]
          },
          "metadata": {},
          "execution_count": 81
        }
      ]
    },
    {
      "cell_type": "code",
      "source": [
        "for i in range(5):\n",
        "  print(i)"
      ],
      "metadata": {
        "colab": {
          "base_uri": "https://localhost:8080/"
        },
        "id": "_OapkkGwxrEa",
        "outputId": "21abf590-86d4-4e4d-df99-15c410ec597d"
      },
      "id": "_OapkkGwxrEa",
      "execution_count": null,
      "outputs": [
        {
          "output_type": "stream",
          "name": "stdout",
          "text": [
            "0\n",
            "1\n",
            "2\n",
            "3\n",
            "4\n"
          ]
        }
      ]
    },
    {
      "cell_type": "code",
      "source": [
        "list(range(5))"
      ],
      "metadata": {
        "colab": {
          "base_uri": "https://localhost:8080/"
        },
        "id": "-qSJUM8Jxyj3",
        "outputId": "e51f8916-a113-460a-d303-b9dbfbce7631"
      },
      "id": "-qSJUM8Jxyj3",
      "execution_count": null,
      "outputs": [
        {
          "output_type": "execute_result",
          "data": {
            "text/plain": [
              "[0, 1, 2, 3, 4]"
            ]
          },
          "metadata": {},
          "execution_count": 83
        }
      ]
    },
    {
      "cell_type": "markdown",
      "source": [
        "### List Comprehension"
      ],
      "metadata": {
        "id": "lHNIaMFOx-yc"
      },
      "id": "lHNIaMFOx-yc"
    },
    {
      "cell_type": "code",
      "source": [
        "x = [1,2,3,4]"
      ],
      "metadata": {
        "id": "aeec4Exdx6CV"
      },
      "id": "aeec4Exdx6CV",
      "execution_count": null,
      "outputs": []
    },
    {
      "cell_type": "code",
      "source": [
        "boxIt = []\n",
        "for item in x:\n",
        "  boxIt.append(item**2)\n",
        "boxIt"
      ],
      "metadata": {
        "colab": {
          "base_uri": "https://localhost:8080/"
        },
        "id": "ftt5P4NCycZa",
        "outputId": "a641f473-1bac-45f4-d68e-21ce53baf215"
      },
      "id": "ftt5P4NCycZa",
      "execution_count": null,
      "outputs": [
        {
          "output_type": "execute_result",
          "data": {
            "text/plain": [
              "[1, 4, 9, 16]"
            ]
          },
          "metadata": {},
          "execution_count": 85
        }
      ]
    },
    {
      "cell_type": "code",
      "source": [
        "boxIt = []\n",
        "for item in x:\n",
        "  print(item**2)"
      ],
      "metadata": {
        "colab": {
          "base_uri": "https://localhost:8080/"
        },
        "id": "DrkIPBy811Au",
        "outputId": "272fc2ae-4ab6-432e-9c91-f1fdc85bb50f"
      },
      "id": "DrkIPBy811Au",
      "execution_count": null,
      "outputs": [
        {
          "output_type": "stream",
          "name": "stdout",
          "text": [
            "1\n",
            "4\n",
            "9\n",
            "16\n"
          ]
        }
      ]
    },
    {
      "cell_type": "code",
      "source": [
        "[item**2 for item in x]"
      ],
      "metadata": {
        "colab": {
          "base_uri": "https://localhost:8080/"
        },
        "id": "_M6fc9w32Lrc",
        "outputId": "df566821-2368-40b1-aac8-c1b6983f0875"
      },
      "id": "_M6fc9w32Lrc",
      "execution_count": null,
      "outputs": [
        {
          "output_type": "execute_result",
          "data": {
            "text/plain": [
              "[1, 4, 9, 16]"
            ]
          },
          "metadata": {},
          "execution_count": 87
        }
      ]
    },
    {
      "cell_type": "markdown",
      "source": [
        "### Functions"
      ],
      "metadata": {
        "id": "2GHWIQO_2ZyK"
      },
      "id": "2GHWIQO_2ZyK"
    },
    {
      "cell_type": "code",
      "source": [
        "def my_func(param01='default'):\n",
        "  \"\"\"\n",
        "  Docstring goes here.\n",
        "  \"\"\"\n",
        "  print(param01)"
      ],
      "metadata": {
        "id": "h_9a3y0z2XvL"
      },
      "id": "h_9a3y0z2XvL",
      "execution_count": null,
      "outputs": []
    },
    {
      "cell_type": "code",
      "source": [
        "my_func('new param')"
      ],
      "metadata": {
        "colab": {
          "base_uri": "https://localhost:8080/"
        },
        "id": "B6iHs7zi3Qfi",
        "outputId": "4e660c2f-c191-4bd4-f363-f1f9160ce095"
      },
      "id": "B6iHs7zi3Qfi",
      "execution_count": null,
      "outputs": [
        {
          "output_type": "stream",
          "name": "stdout",
          "text": [
            "new param\n"
          ]
        }
      ]
    },
    {
      "cell_type": "code",
      "source": [
        "# sum of an Arithmetic Progression/Sequence\n",
        "def sumAP(seq):\n",
        "  summ = len(seq)*((seq[0]+seq[-1])/2)\n",
        "  print(summ)"
      ],
      "metadata": {
        "id": "7xZ8gsPa3cW9"
      },
      "id": "7xZ8gsPa3cW9",
      "execution_count": null,
      "outputs": []
    },
    {
      "cell_type": "code",
      "source": [
        "sumAP([1,2,3,4,5])"
      ],
      "metadata": {
        "colab": {
          "base_uri": "https://localhost:8080/"
        },
        "id": "ezaqgMhb4Je_",
        "outputId": "6842c2b2-1e37-4c79-f419-0bdb993e46b4"
      },
      "id": "ezaqgMhb4Je_",
      "execution_count": null,
      "outputs": [
        {
          "output_type": "stream",
          "name": "stdout",
          "text": [
            "15.0\n"
          ]
        }
      ]
    },
    {
      "cell_type": "code",
      "source": [
        "def ssquare(x):\n",
        "  return x**2"
      ],
      "metadata": {
        "id": "16w8rPJI4apc"
      },
      "id": "16w8rPJI4apc",
      "execution_count": null,
      "outputs": []
    },
    {
      "cell_type": "code",
      "source": [
        "bonzz = ssquare(2)"
      ],
      "metadata": {
        "id": "QCEImmrK4wtJ"
      },
      "id": "QCEImmrK4wtJ",
      "execution_count": null,
      "outputs": []
    },
    {
      "cell_type": "code",
      "source": [
        "print(bonzz)"
      ],
      "metadata": {
        "colab": {
          "base_uri": "https://localhost:8080/"
        },
        "id": "_KCTJsXd8Mih",
        "outputId": "5a9c28cd-4487-45e9-c31a-debb4b042801"
      },
      "id": "_KCTJsXd8Mih",
      "execution_count": null,
      "outputs": [
        {
          "output_type": "stream",
          "name": "stdout",
          "text": [
            "4\n"
          ]
        }
      ]
    },
    {
      "cell_type": "markdown",
      "source": [
        "### Lambda Expressions"
      ],
      "metadata": {
        "id": "JDaWju568QJN"
      },
      "id": "JDaWju568QJN"
    },
    {
      "cell_type": "code",
      "source": [
        "def multiplyBy2(var):\n",
        "  return var*2"
      ],
      "metadata": {
        "id": "YgUo9XAf8Oj5"
      },
      "id": "YgUo9XAf8Oj5",
      "execution_count": 5,
      "outputs": []
    },
    {
      "cell_type": "code",
      "source": [
        "multiplyBy2(2)"
      ],
      "metadata": {
        "colab": {
          "base_uri": "https://localhost:8080/"
        },
        "id": "jnS8ZqnmLqhK",
        "outputId": "fac34758-ff84-410d-ad5e-85f46d52a8db"
      },
      "id": "jnS8ZqnmLqhK",
      "execution_count": 6,
      "outputs": [
        {
          "output_type": "execute_result",
          "data": {
            "text/plain": [
              "4"
            ]
          },
          "metadata": {},
          "execution_count": 6
        }
      ]
    },
    {
      "cell_type": "code",
      "source": [
        "lambda var: var*2"
      ],
      "metadata": {
        "colab": {
          "base_uri": "https://localhost:8080/"
        },
        "id": "E6Hb7Mx0MRRz",
        "outputId": "19785f99-ebb6-4224-84a5-676e41c12118"
      },
      "id": "E6Hb7Mx0MRRz",
      "execution_count": 7,
      "outputs": [
        {
          "output_type": "execute_result",
          "data": {
            "text/plain": [
              "<function __main__.<lambda>(var)>"
            ]
          },
          "metadata": {},
          "execution_count": 7
        }
      ]
    },
    {
      "cell_type": "code",
      "source": [
        "mult2 = lambda x: x*2"
      ],
      "metadata": {
        "id": "mPMhafDkM41U"
      },
      "id": "mPMhafDkM41U",
      "execution_count": 11,
      "outputs": []
    },
    {
      "cell_type": "code",
      "source": [
        "mult2(2)"
      ],
      "metadata": {
        "colab": {
          "base_uri": "https://localhost:8080/"
        },
        "id": "fDMQY4FbNHK_",
        "outputId": "3fe0d643-0085-45f5-b12a-8cdb7199bab5"
      },
      "id": "fDMQY4FbNHK_",
      "execution_count": 12,
      "outputs": [
        {
          "output_type": "execute_result",
          "data": {
            "text/plain": [
              "4"
            ]
          },
          "metadata": {},
          "execution_count": 12
        }
      ]
    },
    {
      "cell_type": "code",
      "source": [
        "add = lambda x,y: x+y"
      ],
      "metadata": {
        "id": "awLdMLFKNIz3"
      },
      "id": "awLdMLFKNIz3",
      "execution_count": 13,
      "outputs": []
    },
    {
      "cell_type": "code",
      "source": [
        "add(2,3)"
      ],
      "metadata": {
        "colab": {
          "base_uri": "https://localhost:8080/"
        },
        "id": "6t0fIaSrNWUS",
        "outputId": "0727f1c0-95a7-4b2e-9b30-2f901ac1d101"
      },
      "id": "6t0fIaSrNWUS",
      "execution_count": 14,
      "outputs": [
        {
          "output_type": "execute_result",
          "data": {
            "text/plain": [
              "5"
            ]
          },
          "metadata": {},
          "execution_count": 14
        }
      ]
    },
    {
      "cell_type": "code",
      "source": [],
      "metadata": {
        "id": "ynvVcQLONmHf"
      },
      "id": "ynvVcQLONmHf",
      "execution_count": null,
      "outputs": []
    }
  ],
  "metadata": {
    "kernelspec": {
      "display_name": "Python 3 (ipykernel)",
      "language": "python",
      "name": "python3"
    },
    "language_info": {
      "codemirror_mode": {
        "name": "ipython",
        "version": 3
      },
      "file_extension": ".py",
      "mimetype": "text/x-python",
      "name": "python",
      "nbconvert_exporter": "python",
      "pygments_lexer": "ipython3",
      "version": "3.9.13"
    },
    "colab": {
      "provenance": [],
      "include_colab_link": true
    }
  },
  "nbformat": 4,
  "nbformat_minor": 5
}