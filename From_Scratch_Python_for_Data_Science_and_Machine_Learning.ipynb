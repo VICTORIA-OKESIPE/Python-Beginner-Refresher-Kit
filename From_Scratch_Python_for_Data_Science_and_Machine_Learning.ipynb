{
  "cells": [
    {
      "cell_type": "markdown",
      "metadata": {
        "id": "view-in-github",
        "colab_type": "text"
      },
      "source": [
        "<a href=\"https://colab.research.google.com/github/VICTORIA-OKESIPE/Python-Beginner-Refresher-Kit/blob/main/From_Scratch_Python_for_Data_Science_and_Machine_Learning.ipynb\" target=\"_parent\"><img src=\"https://colab.research.google.com/assets/colab-badge.svg\" alt=\"Open In Colab\"/></a>"
      ]
    },
    {
      "cell_type": "markdown",
      "id": "9108a8a7",
      "metadata": {
        "id": "9108a8a7"
      },
      "source": [
        "# Data Types"
      ]
    },
    {
      "cell_type": "markdown",
      "id": "9563073a",
      "metadata": {
        "id": "9563073a"
      },
      "source": [
        "### Numbers"
      ]
    },
    {
      "cell_type": "code",
      "execution_count": 1,
      "id": "8fb2e27d",
      "metadata": {
        "id": "8fb2e27d",
        "outputId": "53c9c698-6991-4c73-b349-4bc36bc8495f",
        "colab": {
          "base_uri": "https://localhost:8080/"
        }
      },
      "outputs": [
        {
          "output_type": "execute_result",
          "data": {
            "text/plain": [
              "5"
            ]
          },
          "metadata": {},
          "execution_count": 1
        }
      ],
      "source": [
        "# Addition\n",
        "2 + 3"
      ]
    },
    {
      "cell_type": "code",
      "execution_count": 2,
      "id": "94949a28",
      "metadata": {
        "id": "94949a28",
        "outputId": "906e45c4-9492-4e04-c7ab-725ef4e35e41",
        "colab": {
          "base_uri": "https://localhost:8080/"
        }
      },
      "outputs": [
        {
          "output_type": "execute_result",
          "data": {
            "text/plain": [
              "3"
            ]
          },
          "metadata": {},
          "execution_count": 2
        }
      ],
      "source": [
        "# Subtraction\n",
        "10 - 7"
      ]
    },
    {
      "cell_type": "code",
      "execution_count": 3,
      "id": "d342f052",
      "metadata": {
        "id": "d342f052",
        "outputId": "a30f227b-1b14-4043-9190-b0b0d598cbd0",
        "colab": {
          "base_uri": "https://localhost:8080/"
        }
      },
      "outputs": [
        {
          "output_type": "execute_result",
          "data": {
            "text/plain": [
              "5"
            ]
          },
          "metadata": {},
          "execution_count": 3
        }
      ],
      "source": [
        "# Division (return quotient)\n",
        "15 // 3"
      ]
    },
    {
      "cell_type": "code",
      "execution_count": 4,
      "id": "c45f93a4",
      "metadata": {
        "id": "c45f93a4",
        "outputId": "3739647d-3c14-4282-d8b2-ca8c573f817b",
        "colab": {
          "base_uri": "https://localhost:8080/"
        }
      },
      "outputs": [
        {
          "output_type": "execute_result",
          "data": {
            "text/plain": [
              "7"
            ]
          },
          "metadata": {},
          "execution_count": 4
        }
      ],
      "source": [
        "# Division (return quotient)\n",
        "15 // 2"
      ]
    },
    {
      "cell_type": "code",
      "execution_count": 5,
      "id": "1cd279f7",
      "metadata": {
        "id": "1cd279f7",
        "outputId": "86228efd-fa61-4517-ec09-a17a8eb8b482",
        "colab": {
          "base_uri": "https://localhost:8080/"
        }
      },
      "outputs": [
        {
          "output_type": "execute_result",
          "data": {
            "text/plain": [
              "1"
            ]
          },
          "metadata": {},
          "execution_count": 5
        }
      ],
      "source": [
        "# Division (return remainder)\n",
        "15 % 2"
      ]
    },
    {
      "cell_type": "code",
      "execution_count": 6,
      "id": "a9cdd8e9",
      "metadata": {
        "id": "a9cdd8e9",
        "outputId": "f2384252-ab7f-46ba-fd27-968eafacc147",
        "colab": {
          "base_uri": "https://localhost:8080/"
        }
      },
      "outputs": [
        {
          "output_type": "execute_result",
          "data": {
            "text/plain": [
              "15"
            ]
          },
          "metadata": {},
          "execution_count": 6
        }
      ],
      "source": [
        "# Multiplication\n",
        "3 * 5"
      ]
    },
    {
      "cell_type": "code",
      "execution_count": 7,
      "id": "27ff88f2",
      "metadata": {
        "id": "27ff88f2",
        "outputId": "09ce187d-a648-47f2-8b13-661ccdaf8eaf",
        "colab": {
          "base_uri": "https://localhost:8080/"
        }
      },
      "outputs": [
        {
          "output_type": "execute_result",
          "data": {
            "text/plain": [
              "25"
            ]
          },
          "metadata": {},
          "execution_count": 7
        }
      ],
      "source": [
        "# Exponents\n",
        "5**2"
      ]
    },
    {
      "cell_type": "markdown",
      "id": "3028c572",
      "metadata": {
        "id": "3028c572"
      },
      "source": [
        "### Variables"
      ]
    },
    {
      "cell_type": "code",
      "execution_count": 8,
      "id": "50acd856",
      "metadata": {
        "id": "50acd856"
      },
      "outputs": [],
      "source": [
        "no_of_icecream_cones = 2 #(Variable naming type = Snake type)\n",
        "NoOfIcecreamCones = 2    #(Variable naming type = Pascal type)\n",
        "noOfIcecreamCones = 2    #(Variable naming type = Carmel type)"
      ]
    },
    {
      "cell_type": "code",
      "execution_count": 9,
      "id": "168adf9b",
      "metadata": {
        "id": "168adf9b"
      },
      "outputs": [],
      "source": [
        "a = 5\n",
        "b = 10\n",
        "c = 15\n",
        "d = a + b"
      ]
    },
    {
      "cell_type": "code",
      "execution_count": 10,
      "id": "5986b37b",
      "metadata": {
        "id": "5986b37b",
        "outputId": "8144b490-4c2e-42dd-f1c7-9cff3495c61a",
        "colab": {
          "base_uri": "https://localhost:8080/"
        }
      },
      "outputs": [
        {
          "output_type": "execute_result",
          "data": {
            "text/plain": [
              "15"
            ]
          },
          "metadata": {},
          "execution_count": 10
        }
      ],
      "source": [
        "d"
      ]
    },
    {
      "cell_type": "markdown",
      "id": "8ccf20af",
      "metadata": {
        "id": "8ccf20af"
      },
      "source": [
        "### Strings"
      ]
    },
    {
      "cell_type": "code",
      "execution_count": 11,
      "id": "f051cdf5",
      "metadata": {
        "id": "f051cdf5"
      },
      "outputs": [],
      "source": [
        "# Strings are like sentences. You always need to quote them. You can single quote\n",
        "# or double quote them"
      ]
    },
    {
      "cell_type": "code",
      "execution_count": 12,
      "id": "d26b5697",
      "metadata": {
        "id": "d26b5697"
      },
      "outputs": [],
      "source": [
        "text1 = \"I am currently in Canada for an Internship Program\""
      ]
    },
    {
      "cell_type": "code",
      "execution_count": 13,
      "id": "2761654e",
      "metadata": {
        "id": "2761654e",
        "outputId": "0ddc6cd2-c6f7-40c3-ade9-c1dc152cc083",
        "colab": {
          "base_uri": "https://localhost:8080/",
          "height": 36
        }
      },
      "outputs": [
        {
          "output_type": "execute_result",
          "data": {
            "text/plain": [
              "'I am currently in Canada for an Internship Program'"
            ],
            "application/vnd.google.colaboratory.intrinsic+json": {
              "type": "string"
            }
          },
          "metadata": {},
          "execution_count": 13
        }
      ],
      "source": [
        "text1"
      ]
    },
    {
      "cell_type": "code",
      "execution_count": 14,
      "id": "c9af1456",
      "metadata": {
        "id": "c9af1456"
      },
      "outputs": [],
      "source": [
        "text2 = 'You can also use single quote'"
      ]
    },
    {
      "cell_type": "code",
      "execution_count": 15,
      "id": "e79b6a9b",
      "metadata": {
        "id": "e79b6a9b",
        "outputId": "48072088-0b7f-446e-9344-5a14b1aba006",
        "colab": {
          "base_uri": "https://localhost:8080/",
          "height": 36
        }
      },
      "outputs": [
        {
          "output_type": "execute_result",
          "data": {
            "text/plain": [
              "'You can also use single quote'"
            ],
            "application/vnd.google.colaboratory.intrinsic+json": {
              "type": "string"
            }
          },
          "metadata": {},
          "execution_count": 15
        }
      ],
      "source": [
        "text2"
      ]
    },
    {
      "cell_type": "code",
      "execution_count": null,
      "id": "64234994",
      "metadata": {
        "id": "64234994"
      },
      "outputs": [],
      "source": [
        "# same result"
      ]
    },
    {
      "cell_type": "markdown",
      "id": "a417b401",
      "metadata": {
        "id": "a417b401"
      },
      "source": [
        "### Printing"
      ]
    },
    {
      "cell_type": "code",
      "execution_count": 17,
      "id": "11a40f8e",
      "metadata": {
        "id": "11a40f8e"
      },
      "outputs": [],
      "source": [
        "a = \"Don't break the flow, keep doing it, at least one hour a day!\" # I prefer double quotes ...hahahaha, your choice"
      ]
    },
    {
      "cell_type": "code",
      "execution_count": 18,
      "id": "5310e142",
      "metadata": {
        "id": "5310e142",
        "outputId": "6f37385a-08e5-477b-af56-28f9e0d2485f",
        "colab": {
          "base_uri": "https://localhost:8080/"
        }
      },
      "outputs": [
        {
          "output_type": "stream",
          "name": "stdout",
          "text": [
            "Don't break the flow, keep doing it, at least one hour a day!\n"
          ]
        }
      ],
      "source": [
        "print(a)"
      ]
    },
    {
      "cell_type": "code",
      "execution_count": 19,
      "id": "6adadccb",
      "metadata": {
        "id": "6adadccb",
        "outputId": "97236507-6ed2-4d21-e215-a29c0b015452",
        "colab": {
          "base_uri": "https://localhost:8080/"
        }
      },
      "outputs": [
        {
          "output_type": "stream",
          "name": "stdout",
          "text": [
            "Never give up!\n"
          ]
        }
      ],
      "source": [
        "print(\"Never give up!\")"
      ]
    },
    {
      "cell_type": "code",
      "execution_count": 20,
      "id": "a5dfe697",
      "metadata": {
        "id": "a5dfe697",
        "outputId": "58ae5d46-baef-42fd-eacd-bd4cf7915b0a",
        "colab": {
          "base_uri": "https://localhost:8080/"
        }
      },
      "outputs": [
        {
          "name": "stdout",
          "output_type": "stream",
          "text": [
            "Enter your First name: Victoria\n",
            "Enter your Birthdate (e.g., May 3rd): May 3rd\n"
          ]
        }
      ],
      "source": [
        "# Accepting Input Variable from User\n",
        "name = input(\"Enter your First name: \")\n",
        "birthday = input(\"Enter your Birthdate (e.g., May 3rd): \")"
      ]
    },
    {
      "cell_type": "code",
      "execution_count": 21,
      "id": "8de88785",
      "metadata": {
        "id": "8de88785",
        "outputId": "9e799e61-a355-4825-d64d-e8161338200a",
        "colab": {
          "base_uri": "https://localhost:8080/"
        }
      },
      "outputs": [
        {
          "output_type": "stream",
          "name": "stdout",
          "text": [
            "Victoria's birthday is May 3rd.\n"
          ]
        }
      ],
      "source": [
        "print(\"{}'s birthday is {}.\".format(name,birthday))"
      ]
    },
    {
      "cell_type": "code",
      "execution_count": 22,
      "id": "8a867c9c",
      "metadata": {
        "id": "8a867c9c",
        "outputId": "3707b028-2cc6-4365-9735-fda30ad37008",
        "colab": {
          "base_uri": "https://localhost:8080/"
        }
      },
      "outputs": [
        {
          "output_type": "stream",
          "name": "stdout",
          "text": [
            "Victoria's birthday is May 3rd.\n"
          ]
        }
      ],
      "source": [
        "print(name + \"'s birthday is \" + birthday + \".\")"
      ]
    },
    {
      "cell_type": "code",
      "execution_count": 23,
      "id": "022260b7",
      "metadata": {
        "id": "022260b7"
      },
      "outputs": [],
      "source": [
        "age = 23"
      ]
    },
    {
      "cell_type": "code",
      "execution_count": 24,
      "id": "31108040",
      "metadata": {
        "id": "31108040",
        "outputId": "8f2b91e6-db31-4a8d-c543-eca2747f62b1",
        "colab": {
          "base_uri": "https://localhost:8080/"
        }
      },
      "outputs": [
        {
          "output_type": "stream",
          "name": "stdout",
          "text": [
            "23\n"
          ]
        }
      ],
      "source": [
        "print(age)"
      ]
    },
    {
      "cell_type": "code",
      "execution_count": 25,
      "id": "23c7eb9d",
      "metadata": {
        "id": "23c7eb9d"
      },
      "outputs": [],
      "source": [
        "occupation = \"Intern\"   # Remember to always use quotes for text"
      ]
    },
    {
      "cell_type": "code",
      "execution_count": 26,
      "id": "9e6f98d4",
      "metadata": {
        "id": "9e6f98d4",
        "outputId": "f719b393-0b7a-44f0-e4ab-29ba38689e95",
        "colab": {
          "base_uri": "https://localhost:8080/"
        }
      },
      "outputs": [
        {
          "output_type": "stream",
          "name": "stdout",
          "text": [
            "Intern\n"
          ]
        }
      ],
      "source": [
        "print(occupation)"
      ]
    },
    {
      "cell_type": "markdown",
      "id": "8f56fc92",
      "metadata": {
        "id": "8f56fc92"
      },
      "source": [
        "### Lists"
      ]
    },
    {
      "cell_type": "code",
      "execution_count": 27,
      "id": "c91e6c1b",
      "metadata": {
        "id": "c91e6c1b",
        "outputId": "dbdfd7f0-5460-4da7-c5d8-7743133ae0f5",
        "colab": {
          "base_uri": "https://localhost:8080/"
        }
      },
      "outputs": [
        {
          "output_type": "execute_result",
          "data": {
            "text/plain": [
              "[7, 8, 9, 10]"
            ]
          },
          "metadata": {},
          "execution_count": 27
        }
      ],
      "source": [
        "[7,8,9,10]"
      ]
    },
    {
      "cell_type": "code",
      "execution_count": 28,
      "id": "f2f64ec6",
      "metadata": {
        "id": "f2f64ec6"
      },
      "outputs": [],
      "source": [
        "x = [7,8,9,10]"
      ]
    },
    {
      "cell_type": "code",
      "execution_count": 29,
      "id": "61591bd1",
      "metadata": {
        "id": "61591bd1",
        "outputId": "b81bb48f-e4e0-4809-c010-da2c47ab8af0",
        "colab": {
          "base_uri": "https://localhost:8080/"
        }
      },
      "outputs": [
        {
          "output_type": "stream",
          "name": "stdout",
          "text": [
            "['apple', 'cucumber', 'pineapple', 'grapes', 'lemon']\n"
          ]
        }
      ],
      "source": [
        "new_list = [\"apple\", \"cucumber\", \"pineapple\", \"grapes\", \"lemon\"] # Again, you use quotes when dealing with strings\n",
        "print(new_list)"
      ]
    },
    {
      "cell_type": "code",
      "execution_count": 30,
      "id": "24517188",
      "metadata": {
        "id": "24517188"
      },
      "outputs": [],
      "source": [
        "# list of list\n",
        "y = [\"apple\", 1, 2, ]"
      ]
    },
    {
      "cell_type": "code",
      "execution_count": null,
      "id": "55d228d9",
      "metadata": {
        "id": "55d228d9"
      },
      "outputs": [],
      "source": []
    }
  ],
  "metadata": {
    "kernelspec": {
      "display_name": "Python 3 (ipykernel)",
      "language": "python",
      "name": "python3"
    },
    "language_info": {
      "codemirror_mode": {
        "name": "ipython",
        "version": 3
      },
      "file_extension": ".py",
      "mimetype": "text/x-python",
      "name": "python",
      "nbconvert_exporter": "python",
      "pygments_lexer": "ipython3",
      "version": "3.9.13"
    },
    "colab": {
      "provenance": [],
      "include_colab_link": true
    }
  },
  "nbformat": 4,
  "nbformat_minor": 5
}